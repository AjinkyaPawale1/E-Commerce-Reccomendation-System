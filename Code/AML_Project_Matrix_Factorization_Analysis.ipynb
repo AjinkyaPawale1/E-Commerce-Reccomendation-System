{
  "nbformat": 4,
  "nbformat_minor": 0,
  "metadata": {
    "colab": {
      "name": "Analysis of saved matrix saved factorization models - CSCIB556.ipynb",
      "provenance": [],
      "collapsed_sections": [
        "CI3jAuO40dR_",
        "wO8BZAxio178",
        "Ex--s3kL0Oct",
        "gx8yHLpO60XI",
        "JnhaP_g57tvr",
        "c1D6ZY8z_wmq",
        "L9TnVst7AU0p",
        "5t7ZEASxBDt3",
        "82yrjfaFCBvy",
        "zo1QZjLcEI0k",
        "6j870KmwIMpX",
        "ANyCpBHkJDka"
      ]
    },
    "kernelspec": {
      "name": "python3",
      "display_name": "Python 3"
    },
    "language_info": {
      "name": "python"
    }
  },
  "cells": [
    {
      "cell_type": "markdown",
      "metadata": {
        "id": "75m-a-Z0CQQm"
      },
      "source": [
        "*Note - For most convenient use, upload notebook to google colab and use the index on the left in colab, showing the sections and subsections*\n",
        "\n",
        "In this file , we are loading many of the models that were saved during the course of this project and doing analysis, like plotting the learning curve, computing precision@k and recall@k for some of the datasets, showing differences between SGD and ALS on the same model for few of the datasets. We have created seperate sections below for each of the models. Each saved model consists of- \n",
        "1. user vectors and item vectors which can be used to predict ratings\n",
        "2. user mapping and item mappings which can be used to get user id and itemid as in the original dataset\n",
        "3. training and validation losses saved in a list for plotting learning curves\n",
        "4. the best_validation_mae value, the value for which model was saved. \n",
        "5. In some cases, we also save a summary of the gridsearch we performed with learning rate, regularization rate and number of factors. In these cases we load those files and display them as well. In these files we can see which hyperparameters were used and which ones gave the best validaion MAE value\n",
        "\n",
        "\n",
        "\n",
        "\n",
        "\n"
      ]
    },
    {
      "cell_type": "markdown",
      "metadata": {
        "id": "mU8hosbjolX9"
      },
      "source": [
        "# Importing and Installing required libraries and modules"
      ]
    },
    {
      "cell_type": "code",
      "metadata": {
        "id": "X0CXAWPdwmfO",
        "colab": {
          "base_uri": "https://localhost:8080/"
        },
        "outputId": "6f2049d5-7354-42e0-c388-0f9457d8fe98"
      },
      "source": [
        "import pandas as pd\n",
        "import numpy as np\n",
        "import seaborn as sns\n",
        "import matplotlib.pyplot as plt\n",
        "import random\n",
        "from numpy import random\n",
        "from sklearn.utils import shuffle\n",
        "import math\n",
        "import pickle\n",
        "# import tensorflow as tf\n",
        "import gzip\n",
        "import json\n",
        "import itertools\n",
        "from itertools import product\n",
        "import time\n",
        "import collections\n",
        "from collections import defaultdict\n",
        "\n",
        "import seaborn as sns"
      ],
      "execution_count": 85,
      "outputs": [
        {
          "output_type": "stream",
          "text": [
            "time: 5.9 ms (started: 2021-05-04 18:13:26 +00:00)\n"
          ],
          "name": "stdout"
        }
      ]
    },
    {
      "cell_type": "code",
      "metadata": {
        "colab": {
          "base_uri": "https://localhost:8080/"
        },
        "id": "d74EY2r5ypy5",
        "outputId": "1c834d23-796a-4011-ab7a-588e000432de"
      },
      "source": [
        "!pip install ipython-autotime\n",
        "%load_ext autotime"
      ],
      "execution_count": 2,
      "outputs": [
        {
          "output_type": "stream",
          "text": [
            "Collecting ipython-autotime\n",
            "  Downloading https://files.pythonhosted.org/packages/b4/c9/b413a24f759641bc27ef98c144b590023c8038dfb8a3f09e713e9dff12c1/ipython_autotime-0.3.1-py2.py3-none-any.whl\n",
            "Requirement already satisfied: ipython in /usr/local/lib/python3.7/dist-packages (from ipython-autotime) (5.5.0)\n",
            "Requirement already satisfied: simplegeneric>0.8 in /usr/local/lib/python3.7/dist-packages (from ipython->ipython-autotime) (0.8.1)\n",
            "Requirement already satisfied: traitlets>=4.2 in /usr/local/lib/python3.7/dist-packages (from ipython->ipython-autotime) (5.0.5)\n",
            "Requirement already satisfied: pexpect; sys_platform != \"win32\" in /usr/local/lib/python3.7/dist-packages (from ipython->ipython-autotime) (4.8.0)\n",
            "Requirement already satisfied: pygments in /usr/local/lib/python3.7/dist-packages (from ipython->ipython-autotime) (2.6.1)\n",
            "Requirement already satisfied: setuptools>=18.5 in /usr/local/lib/python3.7/dist-packages (from ipython->ipython-autotime) (56.0.0)\n",
            "Requirement already satisfied: prompt-toolkit<2.0.0,>=1.0.4 in /usr/local/lib/python3.7/dist-packages (from ipython->ipython-autotime) (1.0.18)\n",
            "Requirement already satisfied: pickleshare in /usr/local/lib/python3.7/dist-packages (from ipython->ipython-autotime) (0.7.5)\n",
            "Requirement already satisfied: decorator in /usr/local/lib/python3.7/dist-packages (from ipython->ipython-autotime) (4.4.2)\n",
            "Requirement already satisfied: ipython-genutils in /usr/local/lib/python3.7/dist-packages (from traitlets>=4.2->ipython->ipython-autotime) (0.2.0)\n",
            "Requirement already satisfied: ptyprocess>=0.5 in /usr/local/lib/python3.7/dist-packages (from pexpect; sys_platform != \"win32\"->ipython->ipython-autotime) (0.7.0)\n",
            "Requirement already satisfied: wcwidth in /usr/local/lib/python3.7/dist-packages (from prompt-toolkit<2.0.0,>=1.0.4->ipython->ipython-autotime) (0.2.5)\n",
            "Requirement already satisfied: six>=1.9.0 in /usr/local/lib/python3.7/dist-packages (from prompt-toolkit<2.0.0,>=1.0.4->ipython->ipython-autotime) (1.15.0)\n",
            "Installing collected packages: ipython-autotime\n",
            "Successfully installed ipython-autotime-0.3.1\n",
            "time: 230 µs (started: 2021-05-04 14:27:06 +00:00)\n"
          ],
          "name": "stdout"
        }
      ]
    },
    {
      "cell_type": "code",
      "metadata": {
        "id": "FbY5ojJXl_FN"
      },
      "source": [
        ""
      ],
      "execution_count": 2,
      "outputs": []
    },
    {
      "cell_type": "markdown",
      "metadata": {
        "id": "TR-PTfvTmECm"
      },
      "source": [
        "# Methods to Run before executing train or predict"
      ]
    },
    {
      "cell_type": "markdown",
      "metadata": {
        "id": "rRs-6K2emjzD"
      },
      "source": [
        "### Preprocessing and Splitting into train-test"
      ]
    },
    {
      "cell_type": "code",
      "metadata": {
        "colab": {
          "base_uri": "https://localhost:8080/"
        },
        "id": "EK6qxTq-mHM4",
        "outputId": "1cd656fe-3981-40a5-e576-7ece22e1a467"
      },
      "source": [
        "def parse(path):\n",
        "    g = gzip.open(path, 'rb')\n",
        "    for l in g:\n",
        "        yield json.loads(l)\n",
        "\n",
        "def getDF(path):\n",
        "    i = 0\n",
        "    df = {}\n",
        "    for d in parse(path):\n",
        "        df[i] = d\n",
        "        i += 1\n",
        "    return pd.DataFrame.from_dict(df, orient='index')\n",
        "\n",
        "def read_Dataset(path):\n",
        "    return getDF(path)\n",
        "\n",
        "\n",
        "def Preprocessing(df, min_user_ratings ,min_item_ratings):\n",
        "    df_copy  = df[df.groupby(['uid']).uid.transform('count')>=min_user_ratings].copy()\n",
        "    df_copy = df_copy[df_copy.groupby('iid').uid.transform('count')>=min_item_ratings].copy()\n",
        "    \n",
        "    # Assigning ids to values\n",
        "    user_mapping = {v: k for k, v in enumerate(set(df_copy.uid))}\n",
        "    item_mapping = {v: k for k, v in enumerate(set(df_copy.iid))}\n",
        "    \n",
        "    # Mapping user id, item id strings to sequential integer values\n",
        "    df_copy.uid = df_copy.uid.map(user_mapping)\n",
        "    df_copy.iid = df_copy.iid.map(item_mapping)\n",
        "    \n",
        "    return df_copy, user_mapping, item_mapping\n",
        "\n",
        "\n",
        "def train_test_split(df_copy):\n",
        "    train_list = []\n",
        "    test_list =  []\n",
        "    surprise_list = []\n",
        "    size = 0\n",
        "    user_groups = df_copy.sort_values('timestamp')   # to make sure , for every user, the test set ratings are the most recent\n",
        "    for user, df in user_groups.groupby(\"uid\"):\n",
        "        train_size = round(0.8*len(df))\n",
        "        train_list.append(df[:train_size])\n",
        "        test_list.append(df[train_size:])\n",
        "    return pd.concat(train_list), pd.concat(test_list)\n",
        "\n"
      ],
      "execution_count": 3,
      "outputs": [
        {
          "output_type": "stream",
          "text": [
            "time: 34.3 ms (started: 2021-05-04 14:27:06 +00:00)\n"
          ],
          "name": "stdout"
        }
      ]
    },
    {
      "cell_type": "markdown",
      "metadata": {
        "id": "MEw4R4JNYoGz"
      },
      "source": [
        "### SGD Implementation"
      ]
    },
    {
      "cell_type": "markdown",
      "metadata": {
        "id": "-6wCk-lkpzww"
      },
      "source": [
        "#### Training with combination of all parameters - best model with least validation mae will be chose and saved"
      ]
    },
    {
      "cell_type": "code",
      "metadata": {
        "colab": {
          "base_uri": "https://localhost:8080/"
        },
        "id": "rwzLfOn_Z4qg",
        "outputId": "c9e92259-38a0-409d-c755-d26ca1e38576"
      },
      "source": [
        "def SGD(train, test, hyperparameters, file_name, num_epochs, user_mapping, item_mapping, results_df, min_user_rated,min_item_rated):\n",
        "        \n",
        "    best_validation_mae = math.inf\n",
        "    for i, params in enumerate(list(itertools.product(*hyperparameters))):\n",
        "        early_stopping_count = 0\n",
        "        lr = params[0]\n",
        "        reg = params[1]\n",
        "        n_factors = params[2]\n",
        "         # Initialization of Vectors\n",
        "        p = random.rand(len(user_mapping), n_factors)\n",
        "        q = random.rand(n_factors, len(item_mapping))\n",
        "\n",
        "        train_mae = [0 for _ in range(num_epochs)]\n",
        "        train_mse = [0 for _ in range(num_epochs)]\n",
        "        test_mae = [0 for _ in range(num_epochs)]\n",
        "        test_mse = [0 for _ in range(num_epochs)]\n",
        "        print(f'\\nTrying with hyperparameters - Learning Rate - {lr}, Regularization(Lambda) - {reg}, No. of Factors/rank - {n_factors}')\n",
        "        for epoch in range(num_epochs):\n",
        "          \n",
        "            # Training \n",
        "            for i, row  in train.iterrows():\n",
        "                # e_ij = row.ratings - p[int(row.uid),:].dot(q[:,int(row.iid)])\n",
        "                e_ij = row.ratings - p[int(row.uid),:].dot(q[:,int(row.iid)])\n",
        "                p[int(row.uid),:] = p[int(row.uid),:] + lr*(e_ij*q[:,int(row.iid)].T - reg*p[int(row.uid),:])\n",
        "                q[:,int(row.iid)] = q[:,int(row.iid)] + lr*(e_ij*p[int(row.uid),:].T - reg*q[:,int(row.iid)])\n",
        "                train_mae[epoch] += abs(e_ij)\n",
        "                train_mse[epoch] += e_ij**2\n",
        "            \n",
        "            # Validation \n",
        "            for i, row  in test.iterrows():\n",
        "                e_ij = row.ratings - p[int(row.uid),:].dot(q[:,int(row.iid)])\n",
        "                test_mae[epoch] += abs(e_ij)\n",
        "                test_mse[epoch] += e_ij**2\n",
        "            if test_mae[epoch] < best_validation_mae:\n",
        "                best_validation_mae = test_mae[epoch]\n",
        "                SGD_model = { 'name':file_name, 'user_vectors':p,'item_vectors':q,\n",
        "                                           'hyperparameters':params, 'train':train,'test':test, 'train_mse':train_mse,'train_mae':train_mae,\n",
        "                                           'test_mse':test_mse, 'test_mae':test_mae,\n",
        "                                                'best_train_mae':train_mae[epoch],'best_test_mae':test_mae[epoch],\n",
        "                                            'user_mapping':user_mapping, 'item_mapping':item_mapping}\n",
        "            # Early stopping criteria\n",
        "            \n",
        "            if test_mae[epoch] >= test_mae[epoch-1] and epoch > 0:\n",
        "                early_stopping_count += 1\n",
        "            else:\n",
        "                early_stopping_count = 0\n",
        "            \n",
        "            if early_stopping_count > 5:\n",
        "                break\n",
        "                \n",
        "            # Displaying Loss Function Values\n",
        "            print(f'\\nEpoch {epoch} - \\n')\n",
        "            print(f'Training Error (MAE) {round(train_mae[epoch]/len(train),3)} (MSE) {round(train_mse[epoch]/len(train), 3)}', end='\\t')\n",
        "            print(f'Validation Error (MAE) {round(test_mae[epoch]/len(test),3)} (MSE) {round(test_mse[epoch]/len(test), 3)}')\n",
        "            \n",
        "\n",
        "        pickle.dump(SGD_model, open( file_name, \"wb\" ) )\n",
        "        hyperparam_all = {'lr':hyperparameters[0],'reg':hyperparameters[1],'factors':hyperparameters[2]}\n",
        "        results_df.loc[len(results_df)] =[SGD_model['name'],len(SGD_model['train']),len(SGD_model['test']),SGD_model['best_train_mae']/len(train),SGD_model['best_test_mae']/len(test),hyperparam_all,params,min_item_rated,min_user_rated]\n",
        "    return results_df"
      ],
      "execution_count": 4,
      "outputs": [
        {
          "output_type": "stream",
          "text": [
            "time: 69.6 ms (started: 2021-05-04 14:27:06 +00:00)\n"
          ],
          "name": "stdout"
        }
      ]
    },
    {
      "cell_type": "markdown",
      "metadata": {
        "id": "FUUrrgQAFd7l"
      },
      "source": [
        "## ALS Algorithm"
      ]
    },
    {
      "cell_type": "markdown",
      "metadata": {
        "id": "p2jsFUNnFd7l"
      },
      "source": [
        "#### Training ALS algorithm with combination of hyperparameters"
      ]
    },
    {
      "cell_type": "code",
      "metadata": {
        "colab": {
          "base_uri": "https://localhost:8080/"
        },
        "id": "pCyBN_SPlVgI",
        "scrolled": true,
        "outputId": "8ab2750d-c82b-438d-cfac-a42f9c426f93"
      },
      "source": [
        "\n",
        "def ALS(train, test, hyperparameters, file_name, num_epochs, user_mapping, item_mapping, results_df, min_user_rated,min_item_rated):\n",
        "    best_validation_mae = math.inf\n",
        "    for i, params in enumerate(list(itertools.product(*hyperparameters))):\n",
        "        lr = params[0]\n",
        "        reg = params[1]\n",
        "        n_factors = params[2]\n",
        "        \n",
        "        # Initialization of Vectors\n",
        "        p = random.uniform(-1,1,(len(user_mapping), n_factors))\n",
        "        q = random.uniform(-1,1,(n_factors, len(item_mapping)))\n",
        "        \n",
        "        # List to hold training and validation losses\n",
        "        train_mae = [0 for _ in range(num_epochs)]\n",
        "        train_mse = [0 for _ in range(num_epochs)]\n",
        "        test_mae = [0 for _ in range(num_epochs)]\n",
        "        test_mse = [0 for _ in range(num_epochs)]\n",
        "        print(f'\\nTrying with hyperparameters - {lr}, {reg}, {n_factors}')\n",
        "        users_ratings = train.groupby('uid')\n",
        "        items_ratings = train.groupby('iid')\n",
        "        for epoch in range(num_epochs):\n",
        "            \n",
        "            # Training\n",
        "            for user, df in users_ratings:\n",
        "                item_ids = df.iid.tolist()\n",
        "                p[int(user),:] = np.matmul(np.linalg.inv(np.sum([np.outer(q[:,int(item)], q[:,int(item)].T) \n",
        "                                 for item in item_ids], axis = 0) + reg*np.eye(n_factors)),\n",
        "                                 np.sum([df.loc[df.iid==item].iloc[0].ratings*q[:,int(item)] \n",
        "                                 for item in item_ids], axis = 0))   \n",
        "            for item, df in items_ratings:\n",
        "                user_ids = df.uid.tolist()\n",
        "                q[:,int(item)] = np.matmul(np.linalg.inv(np.sum([np.outer(p[int(user),:], p[int(user),:].T) \n",
        "                                 for user in user_ids], axis = 0) + reg*np.eye(n_factors)),\n",
        "                                 np.sum([df.loc[df.uid==user].iloc[0].ratings*p[int(user),:] \n",
        "                                 for user in user_ids], axis = 0))  \n",
        "            for i, row in train.iterrows():\n",
        "                e_ij = row.ratings - p[int(row.uid),:].dot(q[:,int(row.iid)])\n",
        "                train_mae[epoch] += abs(e_ij)\n",
        "                train_mse[epoch] += (e_ij**2)\n",
        "            \n",
        "            # Validation\n",
        "            for i, row  in test.iterrows():\n",
        "                e_ij = row.ratings - p[int(row.uid),:].dot(q[:,int(row.iid)])\n",
        "                test_mae[epoch] += abs(e_ij)\n",
        "                test_mse[epoch] += (e_ij**2)\n",
        "            if test_mae[epoch] < best_validation_mae:\n",
        "                best_validation_mae = test_mae[epoch]\n",
        "                ALS_model = { 'name':file_name, 'user_vectors':p,'item_vectors':q,\n",
        "                                               'hyperparameters':params, 'train':train,'test':test, 'train_mse':train_mse,'train_mae':train_mae,\n",
        "                                               'test_mse':test_mse, 'test_mae':test_mae,\n",
        "                                                'best_train_mae':train_mae[epoch],'best_test_mae':test_mae[epoch],\n",
        "                                                'user_mapping':user_mapping, 'item_mapping':item_mapping}\n",
        "                \n",
        "                \n",
        "            print(f'Epoch {epoch} (MAE) {round(train_mae[epoch]/len(train),3)} (MSE) {round(train_mse[epoch]/len(train), 3)}', end='\\t')\n",
        "            print(f'Epoch {epoch} loss (MAE) {round(test_mae[epoch]/len(test),3)} (MSE) {round(test_mse[epoch]/len(test), 3)}')   \n",
        "            # Displaying Loss Function Values\n",
        "            pickle.dump(ALS_model, open(file_name, \"wb\"))\n",
        "        hyperparam_all = {'lr':hyperparameters[0],'reg':hyperparameters[1],'factors':hyperparameters[2]}   \n",
        "        results_df.loc[len(results_df)] =[ALS_model['name'],len(ALS_model['train']),len(ALS_model['test']),ALS_model['best_train_mae']/len(train),ALS_model['best_test_mae']/len(test),hyperparam_all,params,min_item_rated,min_user_rated]\n",
        "    return results_df "
      ],
      "execution_count": 5,
      "outputs": [
        {
          "output_type": "stream",
          "text": [
            "time: 77.6 ms (started: 2021-05-04 14:27:06 +00:00)\n"
          ],
          "name": "stdout"
        }
      ]
    },
    {
      "cell_type": "markdown",
      "metadata": {
        "id": "Tznf6K3RuknI"
      },
      "source": [
        "## Recommend Method"
      ]
    },
    {
      "cell_type": "code",
      "metadata": {
        "colab": {
          "base_uri": "https://localhost:8080/"
        },
        "id": "NoFwZPvSuotX",
        "outputId": "2064b870-fc36-4550-8db2-10fc849d09c3"
      },
      "source": [
        "def recommend(model, n, name_mapping, user_id):\n",
        "    p  = model['user_vectors']\n",
        "    q  = model['item_vectors']\n",
        "    test_dataset = model['test']\n",
        "    train_dataset = model['train']\n",
        "    already_rated = pd.concat([train_dataset, test_dataset])\n",
        "\n",
        "    item_mapping = model['item_mapping']\n",
        "    user_mapping = model['user_mapping']\n",
        "    item_reverse_map = {v: k for k, v in item_mapping.items()}\n",
        "\n",
        "    df = train_dataset.groupby('uid').get_group(user_mapping[user_id])\n",
        "    rated_items = df.iid.tolist()\n",
        "    print(user_id)\n",
        "    user_id = user_mapping[user_id]\n",
        "    predicted_rating = {}\n",
        "    for item, item_id in item_mapping.items():\n",
        "        if item_id not in rated_items:\n",
        "            if item in name_mapping.keys():\n",
        "              item_name  = name_mapping[item]\n",
        "            else:\n",
        "              item_name = 'none'\n",
        "            predicted_rating[item] = (item_name, p[int(user_id), :].dot(q[:,int(item_id)]))\n",
        "\n",
        "    t = sorted(predicted_rating.items(), key=lambda x:-x[1][1])[:n]\n",
        "    for x in t:\n",
        "      print(\"{0}: {1}\".format(*x))\n",
        "    return t"
      ],
      "execution_count": 6,
      "outputs": [
        {
          "output_type": "stream",
          "text": [
            "time: 16.1 ms (started: 2021-05-04 14:27:06 +00:00)\n"
          ],
          "name": "stdout"
        }
      ]
    },
    {
      "cell_type": "code",
      "metadata": {
        "id": "GVmJ7K2JvNKO"
      },
      "source": [
        ""
      ],
      "execution_count": 6,
      "outputs": []
    },
    {
      "cell_type": "markdown",
      "metadata": {
        "id": "AMtnRI-Cv2RC"
      },
      "source": [
        "# Loading Saved Models for analysis"
      ]
    },
    {
      "cell_type": "markdown",
      "metadata": {
        "id": "CI3jAuO40dR_"
      },
      "source": [
        "## Office Products 5-core 2018 dataset - SGD Analysis"
      ]
    },
    {
      "cell_type": "code",
      "metadata": {
        "colab": {
          "base_uri": "https://localhost:8080/",
          "height": 297
        },
        "id": "24VZ-ZHWxuBi",
        "outputId": "ffbe4e1b-d5fd-4d3f-b7a4-cff7e9d19d55"
      },
      "source": [
        "# read model and plot graph\n",
        "model_sgd = pickle.load(open('/content/SGD_Office_Products_5.p','rb'))\n",
        "train_set = model_sgd['train']\n",
        "test_set = model_sgd['test']\n",
        "train_mae = model_sgd['train_mae']\n",
        "test_mae = model_sgd['test_mae']\n",
        "plt.plot([i/len(train_set) for i in train_mae])\n",
        "plt.plot([i/len(test_set) for i in test_mae])\n",
        "plt.legend(['train', 'validation'], loc='upper right')"
      ],
      "execution_count": 90,
      "outputs": [
        {
          "output_type": "execute_result",
          "data": {
            "text/plain": [
              "<matplotlib.legend.Legend at 0x7f1359eceb10>"
            ]
          },
          "metadata": {
            "tags": []
          },
          "execution_count": 90
        },
        {
          "output_type": "display_data",
          "data": {
            "image/png": "[encoded data removed]",
            "text/plain": [
              "<Figure size 432x288 with 1 Axes>"
            ]
          },
          "metadata": {
            "tags": [],
            "needs_background": "light"
          }
        },
        {
          "output_type": "stream",
          "text": [
            "time: 274 ms (started: 2021-05-04 18:44:31 +00:00)\n"
          ],
          "name": "stdout"
        }
      ]
    },
    {
      "cell_type": "markdown",
      "metadata": {
        "id": "7f67C4Yd3I7u"
      },
      "source": [
        "Results Summary"
      ]
    },
    {
      "cell_type": "code",
      "metadata": {
        "colab": {
          "base_uri": "https://localhost:8080/",
          "height": 150
        },
        "id": "WgXdf0XayMCa",
        "outputId": "b7a3f8cf-9a7b-4983-b851-5024cfee2ddf"
      },
      "source": [
        "results_df = pickle.load(open('/content/Office_Products_5_2018',\"rb\"))\n",
        "results_df"
      ],
      "execution_count": 91,
      "outputs": [
        {
          "output_type": "execute_result",
          "data": {
            "text/html": [
              "<div>\n",
              "<style scoped>\n",
              "    .dataframe tbody tr th:only-of-type {\n",
              "        vertical-align: middle;\n",
              "    }\n",
              "\n",
              "    .dataframe tbody tr th {\n",
              "        vertical-align: top;\n",
              "    }\n",
              "\n",
              "    .dataframe thead th {\n",
              "        text-align: right;\n",
              "    }\n",
              "</style>\n",
              "<table border=\"1\" class=\"dataframe\">\n",
              "  <thead>\n",
              "    <tr style=\"text-align: right;\">\n",
              "      <th></th>\n",
              "      <th>df_name</th>\n",
              "      <th>Train_size</th>\n",
              "      <th>Test_size</th>\n",
              "      <th>Train_MAE</th>\n",
              "      <th>Test_MAE</th>\n",
              "      <th>Hyperparam_tried</th>\n",
              "      <th>Best_param</th>\n",
              "      <th>Min_User</th>\n",
              "      <th>Min_Item</th>\n",
              "    </tr>\n",
              "  </thead>\n",
              "  <tbody>\n",
              "    <tr>\n",
              "      <th>0</th>\n",
              "      <td>SGD_Office_Products_5.p</td>\n",
              "      <td>594358</td>\n",
              "      <td>146186</td>\n",
              "      <td>0.47952</td>\n",
              "      <td>0.727771</td>\n",
              "      <td>{'lr': [0.01], 'reg': [0.01], 'factors': [10, ...</td>\n",
              "      <td>(0.01, 0.01, 10)</td>\n",
              "      <td>2</td>\n",
              "      <td>2</td>\n",
              "    </tr>\n",
              "    <tr>\n",
              "      <th>1</th>\n",
              "      <td>SGD_Office_Products_5.p</td>\n",
              "      <td>594358</td>\n",
              "      <td>146186</td>\n",
              "      <td>0.47952</td>\n",
              "      <td>0.727771</td>\n",
              "      <td>{'lr': [0.01], 'reg': [0.01], 'factors': [10, ...</td>\n",
              "      <td>(0.01, 0.01, 20)</td>\n",
              "      <td>2</td>\n",
              "      <td>2</td>\n",
              "    </tr>\n",
              "    <tr>\n",
              "      <th>2</th>\n",
              "      <td>SGD_Office_Products_5.p</td>\n",
              "      <td>594358</td>\n",
              "      <td>146186</td>\n",
              "      <td>0.47952</td>\n",
              "      <td>0.727771</td>\n",
              "      <td>{'lr': [0.01], 'reg': [0.01], 'factors': [10, ...</td>\n",
              "      <td>(0.01, 0.01, 50)</td>\n",
              "      <td>2</td>\n",
              "      <td>2</td>\n",
              "    </tr>\n",
              "  </tbody>\n",
              "</table>\n",
              "</div>"
            ],
            "text/plain": [
              "                   df_name Train_size  ... Min_User  Min_Item\n",
              "0  SGD_Office_Products_5.p     594358  ...        2         2\n",
              "1  SGD_Office_Products_5.p     594358  ...        2         2\n",
              "2  SGD_Office_Products_5.p     594358  ...        2         2\n",
              "\n",
              "[3 rows x 9 columns]"
            ]
          },
          "metadata": {
            "tags": []
          },
          "execution_count": 91
        },
        {
          "output_type": "stream",
          "text": [
            "time: 34.9 ms (started: 2021-05-04 18:44:33 +00:00)\n"
          ],
          "name": "stdout"
        }
      ]
    },
    {
      "cell_type": "code",
      "metadata": {
        "colab": {
          "base_uri": "https://localhost:8080/"
        },
        "id": "IV4FwKFI2ZDw",
        "outputId": "89e5b61b-1c70-4582-f569-09b331b48010"
      },
      "source": [
        "# Apply function to compute predicted rating by loaded model vectors and append column\n",
        "p = model_sgd[\"user_vectors\"]\n",
        "q = model_sgd[\"item_vectors\"]\n",
        "user_mapping = model_sgd[\"user_mapping\"]\n",
        "item_mapping = model_sgd[\"item_mapping\"]\n",
        "test_set['SGD_predicted'] = test_set.apply(lambda row: np.dot(p[int(row.uid),:],q[:,int(row.iid)].T), axis=1)"
      ],
      "execution_count": 92,
      "outputs": [
        {
          "output_type": "stream",
          "text": [
            "time: 4.32 s (started: 2021-05-04 18:44:34 +00:00)\n"
          ],
          "name": "stdout"
        }
      ]
    },
    {
      "cell_type": "code",
      "metadata": {
        "colab": {
          "base_uri": "https://localhost:8080/"
        },
        "id": "3DOV0PnP2kz5",
        "outputId": "5ee769c3-d123-4f2f-d61e-5aa16557c8cf"
      },
      "source": [
        "# we create another copy of test set with \n",
        "test_set_10 = test_set[test_set['uid'].map(test_set['uid'].value_counts()) > 10]"
      ],
      "execution_count": 93,
      "outputs": [
        {
          "output_type": "stream",
          "text": [
            "time: 22.6 ms (started: 2021-05-04 18:44:38 +00:00)\n"
          ],
          "name": "stdout"
        }
      ]
    },
    {
      "cell_type": "markdown",
      "metadata": {
        "id": "Yx1YR1hM6Mbf"
      },
      "source": [
        "Following is the number of users with more than 10 ratings"
      ]
    },
    {
      "cell_type": "code",
      "metadata": {
        "colab": {
          "base_uri": "https://localhost:8080/"
        },
        "id": "p5qMRRff6DAO",
        "outputId": "a78ea2dc-0cb9-412d-d5cf-df5c79a63cf8"
      },
      "source": [
        "len(test_set_10.uid.unique())"
      ],
      "execution_count": 94,
      "outputs": [
        {
          "output_type": "execute_result",
          "data": {
            "text/plain": [
              "157"
            ]
          },
          "metadata": {
            "tags": []
          },
          "execution_count": 94
        },
        {
          "output_type": "stream",
          "text": [
            "time: 7.23 ms (started: 2021-05-04 18:44:40 +00:00)\n"
          ],
          "name": "stdout"
        }
      ]
    },
    {
      "cell_type": "markdown",
      "metadata": {
        "id": "_p5KI-Wf9LAW"
      },
      "source": [
        "Hit ratio with 20 items"
      ]
    },
    {
      "cell_type": "code",
      "metadata": {
        "colab": {
          "base_uri": "https://localhost:8080/"
        },
        "id": "LcL_SF2a790x",
        "outputId": "d0fed87f-745d-4076-ab62-90b97a247055"
      },
      "source": [
        "# recommended_list = [[]for _ in test_set_100.uid.unique()] # for each user in the test_set_15 set find the hit rate - no. of relevant items recommended\n",
        "# for i, user_id in enumerate(test_set_100.uid.to_list()):\n",
        "#   recommened_list[i] = recommend(model_sgd, 100, item_name_mapping, user_id)"
      ],
      "execution_count": 95,
      "outputs": [
        {
          "output_type": "stream",
          "text": [
            "time: 1.32 ms (started: 2021-05-04 18:44:42 +00:00)\n"
          ],
          "name": "stdout"
        }
      ]
    },
    {
      "cell_type": "markdown",
      "metadata": {
        "id": "_5uLCa2aLIz4"
      },
      "source": [
        "Recall@k and Precision@k, k = 5, threshold = 3, for all users who have rated atleast 10 items"
      ]
    },
    {
      "cell_type": "code",
      "metadata": {
        "colab": {
          "base_uri": "https://localhost:8080/"
        },
        "id": "In_YKz3R9kTo",
        "outputId": "9df5f8c8-e04f-45c2-cd02-13cb552f033c"
      },
      "source": [
        "threshold = 3\n",
        "\n",
        "# we create another copy of test set with users having rated atleast 15 items\n",
        "test_set_15 = test_set[test_set['uid'].map(test_set['uid'].value_counts()) > 15]\n",
        "\n",
        "\n",
        "# relevant items  and recommended items\n",
        "def precision_and_recalls_atK(df, threshold, k = 5):\n",
        "  # First map the predictions to each user.\n",
        "  user_est_true = defaultdict(list)\n",
        "  for i,row in df.iterrows():\n",
        "        user_est_true[row.uid].append((row.SGD_predicted, row.ratings))\n",
        "\n",
        "  for uid, user_ratings in df.groupby('uid'):\n",
        "    relevant_df = user_ratings[user_ratings.ratings > threshold]\n",
        "    recommend_df = user_ratings[user_ratings.SGD_predicted > threshold]\n",
        "    precisions = dict()\n",
        "    recalls = dict()\n",
        "    for uid, user_ratings in user_est_true.items():\n",
        "\n",
        "        # Sort user ratings by estimated value\n",
        "        user_ratings.sort(key=lambda x: x[0], reverse=True)\n",
        "\n",
        "        # Number of relevant items\n",
        "        n_rel = sum((true_r >= threshold) for (_, true_r) in user_ratings)\n",
        "\n",
        "        # Number of recommended items in top k\n",
        "        n_rec_k = sum((est >= threshold) for (est, _) in user_ratings[:k])\n",
        "\n",
        "        # Number of relevant and recommended items in top k\n",
        "        n_rel_and_rec_k = sum(((true_r >= threshold) and (est >= threshold))\n",
        "                              for (est, true_r) in user_ratings[:k])\n",
        "\n",
        "        # Precision@K: Proportion of recommended items that are relevant\n",
        "        # When n_rec_k is 0, Precision is undefined. We here set it to 0.\n",
        "\n",
        "        precisions[uid] = n_rel_and_rec_k / n_rec_k if n_rec_k != 0 else 0\n",
        "\n",
        "        # Recall@K: Proportion of relevant items that are recommended\n",
        "        # When n_rel is 0, Recall is undefined. We here set it to 0.\n",
        "\n",
        "        recalls[uid] = n_rel_and_rec_k / n_rel if n_rel != 0 else 0\n",
        "\n",
        "    return precisions, recalls\n"
      ],
      "execution_count": 96,
      "outputs": [
        {
          "output_type": "stream",
          "text": [
            "time: 47.6 ms (started: 2021-05-04 18:44:44 +00:00)\n"
          ],
          "name": "stdout"
        }
      ]
    },
    {
      "cell_type": "code",
      "metadata": {
        "colab": {
          "base_uri": "https://localhost:8080/"
        },
        "id": "CbDwJi8OcSvA",
        "outputId": "7e0a16c2-f5d1-4dfd-a728-91ebc2e05ff0"
      },
      "source": [
        "precisions, recalls = precision_and_recalls_atK(test_set_10, threshold)\n",
        "# Precision and recall can then be averaged over all users\n",
        "print(round(sum(prec for prec in precisions.values()) / len(precisions),3))\n",
        "print(round(sum(rec for rec in recalls.values()) / len(recalls),3))"
      ],
      "execution_count": 97,
      "outputs": [
        {
          "output_type": "stream",
          "text": [
            "0.973\n",
            "0.364\n",
            "time: 214 ms (started: 2021-05-04 18:44:45 +00:00)\n"
          ],
          "name": "stdout"
        }
      ]
    },
    {
      "cell_type": "markdown",
      "metadata": {
        "id": "ufGFVJCnjy0b"
      },
      "source": [
        "Recall@k and Precision@k, k = 5, threshold = 4, for all users who have rated atleast 10 items"
      ]
    },
    {
      "cell_type": "code",
      "metadata": {
        "colab": {
          "base_uri": "https://localhost:8080/"
        },
        "id": "DF-7al3Ycuh-",
        "outputId": "5361c5c6-1c74-43a4-d628-b39f65f88722"
      },
      "source": [
        "precisions, recalls = precision_and_recalls_atK(test_set_10, 4)\n",
        "# Precision and recall can then be averaged over all users\n",
        "print(round(sum(prec for prec in precisions.values()) / len(precisions),3))\n",
        "print(round(sum(rec for rec in recalls.values()) / len(recalls),3))"
      ],
      "execution_count": 98,
      "outputs": [
        {
          "output_type": "stream",
          "text": [
            "0.92\n",
            "0.359\n",
            "time: 224 ms (started: 2021-05-04 18:44:47 +00:00)\n"
          ],
          "name": "stdout"
        }
      ]
    },
    {
      "cell_type": "markdown",
      "metadata": {
        "id": "cTmas4K7kTrj"
      },
      "source": [
        "Recall@k and Precision@k, k = 3, threshold = 4, for all users who have rated atleast 5 items"
      ]
    },
    {
      "cell_type": "code",
      "metadata": {
        "colab": {
          "base_uri": "https://localhost:8080/"
        },
        "id": "zy4kEWcYh8bc",
        "outputId": "871a9348-8c48-49eb-9ddf-e1a7e182f563"
      },
      "source": [
        "# we create another copy of test set with \n",
        "test_set_5 = test_set[test_set['uid'].map(test_set['uid'].value_counts()) > 5]\n",
        "precisions, recalls = precision_and_recalls_atK(test_set_10, 4, 3)\n",
        "# Precision and recall can then be averaged over all users\n",
        "print(round(sum(prec for prec in precisions.values()) / len(precisions),3))\n",
        "print(round(sum(rec for rec in recalls.values()) / len(recalls),3))"
      ],
      "execution_count": 99,
      "outputs": [
        {
          "output_type": "stream",
          "text": [
            "0.92\n",
            "0.22\n",
            "time: 214 ms (started: 2021-05-04 18:44:48 +00:00)\n"
          ],
          "name": "stdout"
        }
      ]
    },
    {
      "cell_type": "markdown",
      "metadata": {
        "id": "y_0ixBc2kpev"
      },
      "source": [
        "RMSE for test set"
      ]
    },
    {
      "cell_type": "code",
      "metadata": {
        "colab": {
          "base_uri": "https://localhost:8080/"
        },
        "id": "zaoVX82GkY4O",
        "outputId": "fdf9a2b2-77d2-4783-e306-e27b55280175"
      },
      "source": [
        "from sklearn.metrics import mean_squared_error\n",
        "from sklearn.metrics import mean_absolute_error\n",
        "\n",
        "rms = mean_squared_error(test_set.ratings, test_set.SGD_predicted, squared=False)\n",
        "mae = mean_absolute_error(test_set.ratings, test_set.SGD_predicted)\n",
        "print(rms)\n",
        "print(mae)  # this is same as was obtained during training as our test set is the validation set."
      ],
      "execution_count": 100,
      "outputs": [
        {
          "output_type": "stream",
          "text": [
            "1.0566935848962713\n",
            "0.7333835154935548\n",
            "time: 7.09 ms (started: 2021-05-04 18:44:50 +00:00)\n"
          ],
          "name": "stdout"
        }
      ]
    },
    {
      "cell_type": "code",
      "metadata": {
        "colab": {
          "base_uri": "https://localhost:8080/",
          "height": 297
        },
        "id": "Ow3-LrEckw1-",
        "outputId": "df1b6158-c0eb-4c47-d828-90d8674c215e"
      },
      "source": [
        "sns.histplot([test_set.ratings,test_set.SGD_predicted])"
      ],
      "execution_count": 101,
      "outputs": [
        {
          "output_type": "execute_result",
          "data": {
            "text/plain": [
              "<matplotlib.axes._subplots.AxesSubplot at 0x7f135b027750>"
            ]
          },
          "metadata": {
            "tags": []
          },
          "execution_count": 101
        },
        {
          "output_type": "display_data",
          "data": {
            "image/png": "[encoded data removed]",
            "text/plain": [
              "<Figure size 432x288 with 1 Axes>"
            ]
          },
          "metadata": {
            "tags": [],
            "needs_background": "light"
          }
        },
        {
          "output_type": "stream",
          "text": [
            "time: 1.87 s (started: 2021-05-04 18:44:52 +00:00)\n"
          ],
          "name": "stdout"
        }
      ]
    },
    {
      "cell_type": "code",
      "metadata": {
        "id": "_aeIVeXYlgWJ"
      },
      "source": [
        ""
      ],
      "execution_count": null,
      "outputs": []
    },
    {
      "cell_type": "markdown",
      "metadata": {
        "id": "wO8BZAxio178"
      },
      "source": [
        "## Office Products 5 2014 dataset - SGD and ALS analysis"
      ]
    },
    {
      "cell_type": "markdown",
      "metadata": {
        "id": "-UXn4yOstO0b"
      },
      "source": [
        "Training and validation curve of the SGD model"
      ]
    },
    {
      "cell_type": "code",
      "metadata": {
        "colab": {
          "base_uri": "https://localhost:8080/",
          "height": 297
        },
        "id": "bFSsU9Doo4C_",
        "outputId": "7fd0a0c1-0608-41c2-be31-f968880c97e5"
      },
      "source": [
        "# read model and plot graph\n",
        "model_sgd = pickle.load(open('/content/SGD_Office_Products_5_2014.p','rb'))\n",
        "train_set = model_sgd['train']\n",
        "test_set = model_sgd['test']\n",
        "train_mae = model_sgd['train_mae']\n",
        "test_mae = model_sgd['test_mae']\n",
        "plt.plot([i/len(train_set) for i in train_mae])\n",
        "plt.plot([i/len(test_set) for i in test_mae])\n",
        "plt.legend(['train', 'validation'], loc='upper right')"
      ],
      "execution_count": 111,
      "outputs": [
        {
          "output_type": "execute_result",
          "data": {
            "text/plain": [
              "<matplotlib.legend.Legend at 0x7f135a149c10>"
            ]
          },
          "metadata": {
            "tags": []
          },
          "execution_count": 111
        },
        {
          "output_type": "display_data",
          "data": {
            "image/png": "[encoded data removed]",
            "text/plain": [
              "<Figure size 432x288 with 1 Axes>"
            ]
          },
          "metadata": {
            "tags": [],
            "needs_background": "light"
          }
        },
        {
          "output_type": "stream",
          "text": [
            "time: 178 ms (started: 2021-05-04 18:52:13 +00:00)\n"
          ],
          "name": "stdout"
        }
      ]
    },
    {
      "cell_type": "markdown",
      "metadata": {
        "id": "eNXghrEEtRkF"
      },
      "source": [
        "Training and Validation Curve of the ALS model"
      ]
    },
    {
      "cell_type": "code",
      "metadata": {
        "colab": {
          "base_uri": "https://localhost:8080/",
          "height": 297
        },
        "id": "S58VQSGOqd3p",
        "outputId": "9939afd6-91df-4668-d694-59a196855d1a"
      },
      "source": [
        "# read model and plot graph\n",
        "model_als = pickle.load(open('/content/ALS_Office_Products_5_2014.p','rb'))\n",
        "train_set = model_als['train']\n",
        "test_set = model_als['test']\n",
        "train_mae = model_als['train_mae']\n",
        "test_mae = model_als['test_mae']\n",
        "plt.plot([i/len(train_set) for i in train_mae])\n",
        "plt.plot([i/len(test_set) for i in test_mae])\n",
        "plt.legend(['train', 'validation'], loc='upper right')"
      ],
      "execution_count": 112,
      "outputs": [
        {
          "output_type": "execute_result",
          "data": {
            "text/plain": [
              "<matplotlib.legend.Legend at 0x7f13612ce990>"
            ]
          },
          "metadata": {
            "tags": []
          },
          "execution_count": 112
        },
        {
          "output_type": "display_data",
          "data": {
            "image/png": "[encoded data removed]",
            "text/plain": [
              "<Figure size 432x288 with 1 Axes>"
            ]
          },
          "metadata": {
            "tags": [],
            "needs_background": "light"
          }
        },
        {
          "output_type": "stream",
          "text": [
            "time: 191 ms (started: 2021-05-04 18:52:17 +00:00)\n"
          ],
          "name": "stdout"
        }
      ]
    },
    {
      "cell_type": "code",
      "metadata": {
        "colab": {
          "base_uri": "https://localhost:8080/"
        },
        "id": "BBHmSrDpynf9",
        "outputId": "0a69de4d-5967-498c-ff39-3acf737aa413"
      },
      "source": [
        "print(f'No. of unique users {len(user_mapping.keys())}')\n",
        "print(f'No. of unique items {len(item_mapping.keys())}')\n",
        "print(f'trainset, validation set size {len(model_sgd[\"train\"])},{len(model_sgd[\"test\"])}')\n",
        "print(f'trainset, validation set size {len(model_als[\"train\"])},{len(model_als[\"test\"])}')"
      ],
      "execution_count": 127,
      "outputs": [
        {
          "output_type": "stream",
          "text": [
            "No. of unique users 4905\n",
            "No. of unique items 2420\n",
            "trainset, validation set size 42792,10466\n",
            "trainset, validation set size 42792,10466\n",
            "time: 6.61 ms (started: 2021-05-04 19:13:19 +00:00)\n"
          ],
          "name": "stdout"
        }
      ]
    },
    {
      "cell_type": "markdown",
      "metadata": {
        "id": "o5ReDzFotDuN"
      },
      "source": [
        "Results Summary - SGD, ALS"
      ]
    },
    {
      "cell_type": "code",
      "metadata": {
        "colab": {
          "base_uri": "https://localhost:8080/",
          "height": 265
        },
        "id": "a_IMpt2ctvOC",
        "outputId": "e74ed695-5635-4b95-c950-ba6e36007109"
      },
      "source": [
        "results_df_als = pickle.load(open('/content/Office_Products_5_2014_ALS',\"rb\"))\n",
        "results_df_als"
      ],
      "execution_count": 113,
      "outputs": [
        {
          "output_type": "execute_result",
          "data": {
            "text/html": [
              "<div>\n",
              "<style scoped>\n",
              "    .dataframe tbody tr th:only-of-type {\n",
              "        vertical-align: middle;\n",
              "    }\n",
              "\n",
              "    .dataframe tbody tr th {\n",
              "        vertical-align: top;\n",
              "    }\n",
              "\n",
              "    .dataframe thead th {\n",
              "        text-align: right;\n",
              "    }\n",
              "</style>\n",
              "<table border=\"1\" class=\"dataframe\">\n",
              "  <thead>\n",
              "    <tr style=\"text-align: right;\">\n",
              "      <th></th>\n",
              "      <th>df_name</th>\n",
              "      <th>Train_size</th>\n",
              "      <th>Test_size</th>\n",
              "      <th>Train_MAE</th>\n",
              "      <th>Test_MAE</th>\n",
              "      <th>Hyperparam_tried</th>\n",
              "      <th>Best_param</th>\n",
              "      <th>Min_User</th>\n",
              "      <th>Min_Item</th>\n",
              "    </tr>\n",
              "  </thead>\n",
              "  <tbody>\n",
              "    <tr>\n",
              "      <th>0</th>\n",
              "      <td>SGD_Office_Products_5_2014.p</td>\n",
              "      <td>42792</td>\n",
              "      <td>10466</td>\n",
              "      <td>0.462810</td>\n",
              "      <td>0.743206</td>\n",
              "      <td>{'lr': [0.01], 'reg': [0.01], 'factors': [10, ...</td>\n",
              "      <td>(0.01, 0.01, 10)</td>\n",
              "      <td>1</td>\n",
              "      <td>1</td>\n",
              "    </tr>\n",
              "    <tr>\n",
              "      <th>1</th>\n",
              "      <td>SGD_Office_Products_5_2014.p</td>\n",
              "      <td>42792</td>\n",
              "      <td>10466</td>\n",
              "      <td>0.493083</td>\n",
              "      <td>0.708315</td>\n",
              "      <td>{'lr': [0.01], 'reg': [0.01], 'factors': [10, ...</td>\n",
              "      <td>(0.01, 0.01, 20)</td>\n",
              "      <td>1</td>\n",
              "      <td>1</td>\n",
              "    </tr>\n",
              "    <tr>\n",
              "      <th>2</th>\n",
              "      <td>SGD_Office_Products_5_2014.p</td>\n",
              "      <td>42792</td>\n",
              "      <td>10466</td>\n",
              "      <td>0.493083</td>\n",
              "      <td>0.708315</td>\n",
              "      <td>{'lr': [0.01], 'reg': [0.01], 'factors': [10, ...</td>\n",
              "      <td>(0.01, 0.01, 50)</td>\n",
              "      <td>1</td>\n",
              "      <td>1</td>\n",
              "    </tr>\n",
              "    <tr>\n",
              "      <th>3</th>\n",
              "      <td>ALS_Office_Products_5_2014.p</td>\n",
              "      <td>42792</td>\n",
              "      <td>10466</td>\n",
              "      <td>0.100963</td>\n",
              "      <td>1.996975</td>\n",
              "      <td>{'lr': [0.01], 'reg': [0.1], 'factors': [10, 2...</td>\n",
              "      <td>(0.01, 0.1, 10)</td>\n",
              "      <td>1</td>\n",
              "      <td>1</td>\n",
              "    </tr>\n",
              "    <tr>\n",
              "      <th>4</th>\n",
              "      <td>ALS_Office_Products_5_2014.p</td>\n",
              "      <td>42792</td>\n",
              "      <td>10466</td>\n",
              "      <td>0.059003</td>\n",
              "      <td>1.339042</td>\n",
              "      <td>{'lr': [0.01], 'reg': [0.1], 'factors': [10, 2...</td>\n",
              "      <td>(0.01, 0.1, 10)</td>\n",
              "      <td>1</td>\n",
              "      <td>1</td>\n",
              "    </tr>\n",
              "    <tr>\n",
              "      <th>5</th>\n",
              "      <td>ALS_Office_Products_5_2014.p</td>\n",
              "      <td>42792</td>\n",
              "      <td>10466</td>\n",
              "      <td>0.015684</td>\n",
              "      <td>1.286889</td>\n",
              "      <td>{'lr': [0.01], 'reg': [0.1], 'factors': [10, 2...</td>\n",
              "      <td>(0.01, 0.1, 20)</td>\n",
              "      <td>1</td>\n",
              "      <td>1</td>\n",
              "    </tr>\n",
              "    <tr>\n",
              "      <th>6</th>\n",
              "      <td>ALS_Office_Products_5_2014.p</td>\n",
              "      <td>42792</td>\n",
              "      <td>10466</td>\n",
              "      <td>0.011731</td>\n",
              "      <td>1.115687</td>\n",
              "      <td>{'lr': [0.01], 'reg': [0.1], 'factors': [10, 2...</td>\n",
              "      <td>(0.01, 0.1, 50)</td>\n",
              "      <td>1</td>\n",
              "      <td>1</td>\n",
              "    </tr>\n",
              "  </tbody>\n",
              "</table>\n",
              "</div>"
            ],
            "text/plain": [
              "                        df_name Train_size  ... Min_User  Min_Item\n",
              "0  SGD_Office_Products_5_2014.p      42792  ...        1         1\n",
              "1  SGD_Office_Products_5_2014.p      42792  ...        1         1\n",
              "2  SGD_Office_Products_5_2014.p      42792  ...        1         1\n",
              "3  ALS_Office_Products_5_2014.p      42792  ...        1         1\n",
              "4  ALS_Office_Products_5_2014.p      42792  ...        1         1\n",
              "5  ALS_Office_Products_5_2014.p      42792  ...        1         1\n",
              "6  ALS_Office_Products_5_2014.p      42792  ...        1         1\n",
              "\n",
              "[7 rows x 9 columns]"
            ]
          },
          "metadata": {
            "tags": []
          },
          "execution_count": 113
        },
        {
          "output_type": "stream",
          "text": [
            "time: 38.8 ms (started: 2021-05-04 18:52:20 +00:00)\n"
          ],
          "name": "stdout"
        }
      ]
    },
    {
      "cell_type": "markdown",
      "metadata": {
        "id": "azTeredPt9rh"
      },
      "source": [
        "Appending predicted ratings from ALS and SGD models"
      ]
    },
    {
      "cell_type": "code",
      "metadata": {
        "colab": {
          "base_uri": "https://localhost:8080/"
        },
        "id": "eUUxVB0btDuR",
        "outputId": "f6bdb801-9e0b-4ae9-ade5-e1ea8dbb14f9"
      },
      "source": [
        "# Apply function to compute predicted rating by loaded model vectors and append column\n",
        "p = model_sgd[\"user_vectors\"]\n",
        "q = model_sgd[\"item_vectors\"]\n",
        "user_mapping = model_sgd[\"user_mapping\"]\n",
        "item_mapping = model_sgd[\"item_mapping\"]\n",
        "test_set['SGD_predicted'] = test_set.apply(lambda row: np.dot(p[int(row.uid),:],q[:,int(row.iid)].T), axis=1)"
      ],
      "execution_count": 114,
      "outputs": [
        {
          "output_type": "stream",
          "text": [
            "time: 265 ms (started: 2021-05-04 18:52:23 +00:00)\n"
          ],
          "name": "stdout"
        }
      ]
    },
    {
      "cell_type": "code",
      "metadata": {
        "colab": {
          "base_uri": "https://localhost:8080/"
        },
        "id": "kYDkF3Qdt8Kh",
        "outputId": "7f9efcdb-af86-4509-f0a0-500eb35d680e"
      },
      "source": [
        "p = model_als[\"user_vectors\"]\n",
        "q = model_als[\"item_vectors\"]\n",
        "user_mapping = model_als[\"user_mapping\"]\n",
        "item_mapping = model_als[\"item_mapping\"]\n",
        "test_set['ALS_predicted'] = test_set.apply(lambda row: np.dot(p[int(row.uid),:],q[:,int(row.iid)].T), axis=1)"
      ],
      "execution_count": 115,
      "outputs": [
        {
          "output_type": "stream",
          "text": [
            "time: 293 ms (started: 2021-05-04 18:52:27 +00:00)\n"
          ],
          "name": "stdout"
        }
      ]
    },
    {
      "cell_type": "code",
      "metadata": {
        "colab": {
          "base_uri": "https://localhost:8080/",
          "height": 207
        },
        "id": "eXMRwTbEuN34",
        "outputId": "cf9082fa-4b84-4540-ef68-79b4b71143d8"
      },
      "source": [
        "test_set.head()"
      ],
      "execution_count": 116,
      "outputs": [
        {
          "output_type": "execute_result",
          "data": {
            "text/html": [
              "<div>\n",
              "<style scoped>\n",
              "    .dataframe tbody tr th:only-of-type {\n",
              "        vertical-align: middle;\n",
              "    }\n",
              "\n",
              "    .dataframe tbody tr th {\n",
              "        vertical-align: top;\n",
              "    }\n",
              "\n",
              "    .dataframe thead th {\n",
              "        text-align: right;\n",
              "    }\n",
              "</style>\n",
              "<table border=\"1\" class=\"dataframe\">\n",
              "  <thead>\n",
              "    <tr style=\"text-align: right;\">\n",
              "      <th></th>\n",
              "      <th>uid</th>\n",
              "      <th>iid</th>\n",
              "      <th>ratings</th>\n",
              "      <th>timestamp</th>\n",
              "      <th>SGD_predicted</th>\n",
              "      <th>ALS_predicted</th>\n",
              "    </tr>\n",
              "  </thead>\n",
              "  <tbody>\n",
              "    <tr>\n",
              "      <th>29054</th>\n",
              "      <td>0</td>\n",
              "      <td>339</td>\n",
              "      <td>3.0</td>\n",
              "      <td>1397088000</td>\n",
              "      <td>4.677600</td>\n",
              "      <td>4.509259</td>\n",
              "    </tr>\n",
              "    <tr>\n",
              "      <th>50641</th>\n",
              "      <td>0</td>\n",
              "      <td>2410</td>\n",
              "      <td>5.0</td>\n",
              "      <td>1403740800</td>\n",
              "      <td>4.777131</td>\n",
              "      <td>4.090994</td>\n",
              "    </tr>\n",
              "    <tr>\n",
              "      <th>20262</th>\n",
              "      <td>0</td>\n",
              "      <td>1289</td>\n",
              "      <td>5.0</td>\n",
              "      <td>1403740800</td>\n",
              "      <td>4.717684</td>\n",
              "      <td>4.080285</td>\n",
              "    </tr>\n",
              "    <tr>\n",
              "      <th>42611</th>\n",
              "      <td>1</td>\n",
              "      <td>2123</td>\n",
              "      <td>4.0</td>\n",
              "      <td>1356912000</td>\n",
              "      <td>5.156367</td>\n",
              "      <td>1.944690</td>\n",
              "    </tr>\n",
              "    <tr>\n",
              "      <th>40814</th>\n",
              "      <td>2</td>\n",
              "      <td>2022</td>\n",
              "      <td>5.0</td>\n",
              "      <td>1347235200</td>\n",
              "      <td>4.986567</td>\n",
              "      <td>3.663172</td>\n",
              "    </tr>\n",
              "  </tbody>\n",
              "</table>\n",
              "</div>"
            ],
            "text/plain": [
              "       uid   iid  ratings   timestamp  SGD_predicted  ALS_predicted\n",
              "29054    0   339      3.0  1397088000       4.677600       4.509259\n",
              "50641    0  2410      5.0  1403740800       4.777131       4.090994\n",
              "20262    0  1289      5.0  1403740800       4.717684       4.080285\n",
              "42611    1  2123      4.0  1356912000       5.156367       1.944690\n",
              "40814    2  2022      5.0  1347235200       4.986567       3.663172"
            ]
          },
          "metadata": {
            "tags": []
          },
          "execution_count": 116
        },
        {
          "output_type": "stream",
          "text": [
            "time: 16.3 ms (started: 2021-05-04 18:52:28 +00:00)\n"
          ],
          "name": "stdout"
        }
      ]
    },
    {
      "cell_type": "code",
      "metadata": {
        "colab": {
          "base_uri": "https://localhost:8080/"
        },
        "id": "8EXhVGWNtDuR",
        "outputId": "153be9cd-9b94-493c-c406-8795905b00f0"
      },
      "source": [
        "# we create another copy of test set with \n",
        "test_set_10 = test_set[test_set['uid'].map(test_set['uid'].value_counts()) > 10]"
      ],
      "execution_count": 117,
      "outputs": [
        {
          "output_type": "stream",
          "text": [
            "time: 8.64 ms (started: 2021-05-04 19:01:51 +00:00)\n"
          ],
          "name": "stdout"
        }
      ]
    },
    {
      "cell_type": "markdown",
      "metadata": {
        "id": "X7XrnWb8tDuS"
      },
      "source": [
        "Following is the number of users with more than 10 ratings"
      ]
    },
    {
      "cell_type": "code",
      "metadata": {
        "colab": {
          "base_uri": "https://localhost:8080/"
        },
        "id": "zXBNt_PstDuS",
        "outputId": "17bbc2ea-0725-4259-fe42-031b878c88d6"
      },
      "source": [
        "len(test_set_10.uid.unique())"
      ],
      "execution_count": 118,
      "outputs": [
        {
          "output_type": "execute_result",
          "data": {
            "text/plain": [
              "25"
            ]
          },
          "metadata": {
            "tags": []
          },
          "execution_count": 118
        },
        {
          "output_type": "stream",
          "text": [
            "time: 6.49 ms (started: 2021-05-04 19:01:53 +00:00)\n"
          ],
          "name": "stdout"
        }
      ]
    },
    {
      "cell_type": "markdown",
      "metadata": {
        "id": "E5Q48IqStDuT"
      },
      "source": [
        "Hit ratio with 20 items"
      ]
    },
    {
      "cell_type": "code",
      "metadata": {
        "colab": {
          "base_uri": "https://localhost:8080/"
        },
        "id": "_NhyewM2tDuT",
        "outputId": "d0fed87f-745d-4076-ab62-90b97a247055"
      },
      "source": [
        "# recommended_list = [[]for _ in test_set_100.uid.unique()] # for each user in the test_set_15 set find the hit rate - no. of relevant items recommended\n",
        "# for i, user_id in enumerate(test_set_100.uid.to_list()):\n",
        "#   recommened_list[i] = recommend(model_sgd, 100, item_name_mapping, user_id)"
      ],
      "execution_count": null,
      "outputs": [
        {
          "output_type": "stream",
          "text": [
            "time: 1.32 ms (started: 2021-05-04 18:44:42 +00:00)\n"
          ],
          "name": "stdout"
        }
      ]
    },
    {
      "cell_type": "markdown",
      "metadata": {
        "id": "OqPG2i7btDuT"
      },
      "source": [
        "Recall@k and Precision@k, k = 5, threshold = 3, for all users who have rated atleast 10 items"
      ]
    },
    {
      "cell_type": "code",
      "metadata": {
        "colab": {
          "base_uri": "https://localhost:8080/"
        },
        "id": "U5cTINLstDuU",
        "outputId": "63ad721e-8e76-4872-80a2-c65d2d69db4e"
      },
      "source": [
        "precisions, recalls = precision_and_recalls_atK(test_set_10, threshold)\n",
        "# Precision and recall can then be averaged over all users\n",
        "print(round(sum(prec for prec in precisions.values()) / len(precisions),3))\n",
        "print(round(sum(rec for rec in recalls.values()) / len(recalls),3))"
      ],
      "execution_count": 119,
      "outputs": [
        {
          "output_type": "stream",
          "text": [
            "0.96\n",
            "0.393\n",
            "time: 35.8 ms (started: 2021-05-04 19:02:00 +00:00)\n"
          ],
          "name": "stdout"
        }
      ]
    },
    {
      "cell_type": "markdown",
      "metadata": {
        "id": "WKsb5s9XtDuV"
      },
      "source": [
        "Recall@k and Precision@k, k = 5, threshold = 4, for all users who have rated atleast 10 items"
      ]
    },
    {
      "cell_type": "code",
      "metadata": {
        "colab": {
          "base_uri": "https://localhost:8080/"
        },
        "id": "1bwCIZD6tDuV",
        "outputId": "26f235c9-e05b-4a2c-c2c0-ed4f512789de"
      },
      "source": [
        "precisions, recalls = precision_and_recalls_atK(test_set_10, 4)\n",
        "# Precision and recall can then be averaged over all users\n",
        "print(round(sum(prec for prec in precisions.values()) / len(precisions),3))\n",
        "print(round(sum(rec for rec in recalls.values()) / len(recalls),3))"
      ],
      "execution_count": 120,
      "outputs": [
        {
          "output_type": "stream",
          "text": [
            "0.92\n",
            "0.415\n",
            "time: 35.5 ms (started: 2021-05-04 19:02:03 +00:00)\n"
          ],
          "name": "stdout"
        }
      ]
    },
    {
      "cell_type": "markdown",
      "metadata": {
        "id": "VAWCBsSHtDuV"
      },
      "source": [
        "Recall@k and Precision@k, k = 3, threshold = 4, for all users who have rated atleast 5 items"
      ]
    },
    {
      "cell_type": "code",
      "metadata": {
        "colab": {
          "base_uri": "https://localhost:8080/"
        },
        "id": "KPVImV7htDuW",
        "outputId": "1f1f2643-c402-46a9-f0ad-31e05cf078ff"
      },
      "source": [
        "# we create another copy of test set with \n",
        "test_set_5 = test_set[test_set['uid'].map(test_set['uid'].value_counts()) > 5]\n",
        "precisions, recalls = precision_and_recalls_atK(test_set_10, 4, 3)\n",
        "# Precision and recall can then be averaged over all users\n",
        "print(round(sum(prec for prec in precisions.values()) / len(precisions),3))\n",
        "print(round(sum(rec for rec in recalls.values()) / len(recalls),3))"
      ],
      "execution_count": 121,
      "outputs": [
        {
          "output_type": "stream",
          "text": [
            "0.92\n",
            "0.251\n",
            "time: 41.3 ms (started: 2021-05-04 19:02:05 +00:00)\n"
          ],
          "name": "stdout"
        }
      ]
    },
    {
      "cell_type": "markdown",
      "metadata": {
        "id": "Lkr6cEfptDuW"
      },
      "source": [
        "RMSE for test set"
      ]
    },
    {
      "cell_type": "code",
      "metadata": {
        "colab": {
          "base_uri": "https://localhost:8080/"
        },
        "id": "z9iziqRotDuW",
        "outputId": "06c92c3f-75df-4287-e0ac-48b846087f9c"
      },
      "source": [
        "from sklearn.metrics import mean_squared_error\n",
        "from sklearn.metrics import mean_absolute_error\n",
        "\n",
        "rms = mean_squared_error(test_set.ratings, test_set.SGD_predicted, squared=False)\n",
        "mae = mean_absolute_error(test_set.ratings, test_set.SGD_predicted)\n",
        "rms_als = mean_squared_error(test_set.ratings, test_set.ALS_predicted, squared=False)\n",
        "mae_als = mean_absolute_error(test_set.ratings, test_set.ALS_predicted)\n",
        "print(rms)\n",
        "print(mae)  # this is same as was obtained during training as our test set is the validation set.\n",
        "print(rms_als)\n",
        "print(mae_als)"
      ],
      "execution_count": 124,
      "outputs": [
        {
          "output_type": "stream",
          "text": [
            "0.9512180888773092\n",
            "0.7140308636819402\n",
            "1.4754390313217922\n",
            "1.1156867484120399\n",
            "time: 20.8 ms (started: 2021-05-04 19:03:18 +00:00)\n"
          ],
          "name": "stdout"
        }
      ]
    },
    {
      "cell_type": "code",
      "metadata": {
        "colab": {
          "base_uri": "https://localhost:8080/",
          "height": 297
        },
        "id": "4AYQ7arXtDuW",
        "outputId": "1817f93c-b1a7-4225-e63e-c978eb7724ff"
      },
      "source": [
        "sns.histplot([test_set.ratings,test_set.SGD_predicted])"
      ],
      "execution_count": 125,
      "outputs": [
        {
          "output_type": "execute_result",
          "data": {
            "text/plain": [
              "<matplotlib.axes._subplots.AxesSubplot at 0x7f136167dc10>"
            ]
          },
          "metadata": {
            "tags": []
          },
          "execution_count": 125
        },
        {
          "output_type": "display_data",
          "data": {
            "image/png": "[encoded data removed]",
            "text/plain": [
              "<Figure size 432x288 with 1 Axes>"
            ]
          },
          "metadata": {
            "tags": [],
            "needs_background": "light"
          }
        },
        {
          "output_type": "stream",
          "text": [
            "time: 663 ms (started: 2021-05-04 19:03:40 +00:00)\n"
          ],
          "name": "stdout"
        }
      ]
    },
    {
      "cell_type": "code",
      "metadata": {
        "id": "qoMqEmADw7Og"
      },
      "source": [
        ""
      ],
      "execution_count": null,
      "outputs": []
    },
    {
      "cell_type": "markdown",
      "metadata": {
        "id": "Ex--s3kL0Oct"
      },
      "source": [
        "## 5-core combined datasets\n",
        "Both SGD and ALS were run on combined 8-core datasets -\n",
        "1. AMAZON FASHION\n",
        "2. All Beauty\n",
        "3. Appliances\n",
        "4. Luxury Beauty\n",
        "5. Software\n",
        "6. Magazine Subscriptions\n",
        "7. Industrial and Scientific\n",
        "8. Gift cards\n"
      ]
    },
    {
      "cell_type": "code",
      "metadata": {
        "colab": {
          "base_uri": "https://localhost:8080/",
          "height": 301
        },
        "id": "N62Lm4Tn0pM2",
        "outputId": "a358ff6e-6168-47c0-ae80-9ff89572ede6"
      },
      "source": [
        "# read model and plot graph\n",
        "model_sgd = pickle.load(open('/content/SGD_Combined_8_Datasets_5_core.p','rb'))\n",
        "train_set = model_sgd['train']\n",
        "test_set = model_sgd['test']\n",
        "train_mae = model_sgd['train_mae']\n",
        "test_mae = model_sgd['test_mae']\n",
        "plt.plot([i/len(train_set) for i in train_mae])\n",
        "plt.plot([i/len(test_set) for i in test_mae])\n",
        "plt.legend(['train', 'validation'], loc='upper right')"
      ],
      "execution_count": 129,
      "outputs": [
        {
          "output_type": "execute_result",
          "data": {
            "text/plain": [
              "<matplotlib.legend.Legend at 0x7f135a952e10>"
            ]
          },
          "metadata": {
            "tags": []
          },
          "execution_count": 129
        },
        {
          "output_type": "display_data",
          "data": {
            "image/png": "[encoded data removed]",
            "text/plain": [
              "<Figure size 432x288 with 1 Axes>"
            ]
          },
          "metadata": {
            "tags": [],
            "needs_background": "light"
          }
        },
        {
          "output_type": "stream",
          "text": [
            "time: 211 ms (started: 2021-05-04 19:23:09 +00:00)\n"
          ],
          "name": "stdout"
        }
      ]
    },
    {
      "cell_type": "markdown",
      "metadata": {
        "id": "SD4t7lnq1f5s"
      },
      "source": [
        "Training and Validation Curve of the ALS model"
      ]
    },
    {
      "cell_type": "code",
      "metadata": {
        "colab": {
          "base_uri": "https://localhost:8080/",
          "height": 297
        },
        "id": "RU1JOIX_1f5t",
        "outputId": "855e2767-6a44-446a-e737-da9d33693919"
      },
      "source": [
        "# read model and plot graph\n",
        "model_als = pickle.load(open('/content/ALS_Combined_8_Datasets_5_core.p','rb'))\n",
        "train_set = model_als['train']\n",
        "test_set = model_als['test']\n",
        "train_mae = model_als['train_mae']\n",
        "test_mae = model_als['test_mae']\n",
        "plt.plot([i/len(train_set) for i in train_mae])\n",
        "plt.plot([i/len(test_set) for i in test_mae])\n",
        "plt.legend(['train', 'validation'], loc='upper right')"
      ],
      "execution_count": 130,
      "outputs": [
        {
          "output_type": "execute_result",
          "data": {
            "text/plain": [
              "<matplotlib.legend.Legend at 0x7f13611c4610>"
            ]
          },
          "metadata": {
            "tags": []
          },
          "execution_count": 130
        },
        {
          "output_type": "display_data",
          "data": {
            "image/png": "[encoded data removed]",
            "text/plain": [
              "<Figure size 432x288 with 1 Axes>"
            ]
          },
          "metadata": {
            "tags": [],
            "needs_background": "light"
          }
        },
        {
          "output_type": "stream",
          "text": [
            "time: 333 ms (started: 2021-05-04 19:23:54 +00:00)\n"
          ],
          "name": "stdout"
        }
      ]
    },
    {
      "cell_type": "code",
      "metadata": {
        "colab": {
          "base_uri": "https://localhost:8080/"
        },
        "id": "l09PmlHq1f5u",
        "outputId": "b20554f2-4642-4240-8c16-a33e69ab755a"
      },
      "source": [
        "print(f'No. of unique users {len(model_sgd[\"user_mapping\"].keys())}')\n",
        "print(f'No. of unique items {len(model_sgd[\"item_mapping\"].keys())}')\n",
        "print(f'trainset, validation set size {len(model_sgd[\"train\"])},{len(model_sgd[\"test\"])}')\n",
        "print(f'trainset, validation set size {len(model_als[\"train\"])},{len(model_als[\"test\"])}')"
      ],
      "execution_count": 132,
      "outputs": [
        {
          "output_type": "stream",
          "text": [
            "No. of unique users 18102\n",
            "No. of unique items 8186\n",
            "trainset, validation set size 99335,25232\n",
            "trainset, validation set size 99335,25232\n",
            "time: 3.77 ms (started: 2021-05-04 19:24:49 +00:00)\n"
          ],
          "name": "stdout"
        }
      ]
    },
    {
      "cell_type": "code",
      "metadata": {
        "id": "wrXCJ4dX11de"
      },
      "source": [
        ""
      ],
      "execution_count": null,
      "outputs": []
    },
    {
      "cell_type": "markdown",
      "metadata": {
        "id": "8Y4Z7smb2CAt"
      },
      "source": [
        "Results Summary - SGD, ALS"
      ]
    },
    {
      "cell_type": "code",
      "metadata": {
        "colab": {
          "base_uri": "https://localhost:8080/",
          "height": 150
        },
        "id": "432tWxMF2CAt",
        "outputId": "9ac57043-7e88-4947-ca0f-ef91f2a3e286"
      },
      "source": [
        "results_df_als = pickle.load(open('/content/5_core_Combined_results_8_datasets_als.p',\"rb\"))\n",
        "results_df_als"
      ],
      "execution_count": 134,
      "outputs": [
        {
          "output_type": "execute_result",
          "data": {
            "text/html": [
              "<div>\n",
              "<style scoped>\n",
              "    .dataframe tbody tr th:only-of-type {\n",
              "        vertical-align: middle;\n",
              "    }\n",
              "\n",
              "    .dataframe tbody tr th {\n",
              "        vertical-align: top;\n",
              "    }\n",
              "\n",
              "    .dataframe thead th {\n",
              "        text-align: right;\n",
              "    }\n",
              "</style>\n",
              "<table border=\"1\" class=\"dataframe\">\n",
              "  <thead>\n",
              "    <tr style=\"text-align: right;\">\n",
              "      <th></th>\n",
              "      <th>df_name</th>\n",
              "      <th>Train_size</th>\n",
              "      <th>Test_size</th>\n",
              "      <th>Train_MAE</th>\n",
              "      <th>Test_MAE</th>\n",
              "      <th>Hyperparam_tried</th>\n",
              "      <th>Best_param</th>\n",
              "      <th>Min_User</th>\n",
              "      <th>Min_Item</th>\n",
              "    </tr>\n",
              "  </thead>\n",
              "  <tbody>\n",
              "    <tr>\n",
              "      <th>0</th>\n",
              "      <td>ALS_Combined_8_Datasets_5_core.p</td>\n",
              "      <td>99335</td>\n",
              "      <td>25232</td>\n",
              "      <td>0.361331</td>\n",
              "      <td>0.771119</td>\n",
              "      <td>{'lr': [0.01], 'reg': [1], 'factors': [2, 5, 20]}</td>\n",
              "      <td>(0.01, 1, 2)</td>\n",
              "      <td>1</td>\n",
              "      <td>1</td>\n",
              "    </tr>\n",
              "    <tr>\n",
              "      <th>1</th>\n",
              "      <td>ALS_Combined_8_Datasets_5_core.p</td>\n",
              "      <td>99335</td>\n",
              "      <td>25232</td>\n",
              "      <td>0.361331</td>\n",
              "      <td>0.771119</td>\n",
              "      <td>{'lr': [0.01], 'reg': [1], 'factors': [2, 5, 20]}</td>\n",
              "      <td>(0.01, 1, 5)</td>\n",
              "      <td>1</td>\n",
              "      <td>1</td>\n",
              "    </tr>\n",
              "    <tr>\n",
              "      <th>2</th>\n",
              "      <td>ALS_Combined_8_Datasets_5_core.p</td>\n",
              "      <td>99335</td>\n",
              "      <td>25232</td>\n",
              "      <td>0.361331</td>\n",
              "      <td>0.771119</td>\n",
              "      <td>{'lr': [0.01], 'reg': [1], 'factors': [2, 5, 20]}</td>\n",
              "      <td>(0.01, 1, 20)</td>\n",
              "      <td>1</td>\n",
              "      <td>1</td>\n",
              "    </tr>\n",
              "  </tbody>\n",
              "</table>\n",
              "</div>"
            ],
            "text/plain": [
              "                            df_name Train_size  ... Min_User  Min_Item\n",
              "0  ALS_Combined_8_Datasets_5_core.p      99335  ...        1         1\n",
              "1  ALS_Combined_8_Datasets_5_core.p      99335  ...        1         1\n",
              "2  ALS_Combined_8_Datasets_5_core.p      99335  ...        1         1\n",
              "\n",
              "[3 rows x 9 columns]"
            ]
          },
          "metadata": {
            "tags": []
          },
          "execution_count": 134
        },
        {
          "output_type": "stream",
          "text": [
            "time: 31.1 ms (started: 2021-05-04 19:26:28 +00:00)\n"
          ],
          "name": "stdout"
        }
      ]
    },
    {
      "cell_type": "code",
      "metadata": {
        "colab": {
          "base_uri": "https://localhost:8080/",
          "height": 236
        },
        "id": "eiEAzWtY2KfB",
        "outputId": "566d20ea-f6a2-4a0d-871f-cb6f9bfc5a94"
      },
      "source": [
        "results_df_sgd = pickle.load(open('/content/5_core_Combined_results_8_datasets.p',\"rb\"))\n",
        "results_df_sgd"
      ],
      "execution_count": 136,
      "outputs": [
        {
          "output_type": "execute_result",
          "data": {
            "text/html": [
              "<div>\n",
              "<style scoped>\n",
              "    .dataframe tbody tr th:only-of-type {\n",
              "        vertical-align: middle;\n",
              "    }\n",
              "\n",
              "    .dataframe tbody tr th {\n",
              "        vertical-align: top;\n",
              "    }\n",
              "\n",
              "    .dataframe thead th {\n",
              "        text-align: right;\n",
              "    }\n",
              "</style>\n",
              "<table border=\"1\" class=\"dataframe\">\n",
              "  <thead>\n",
              "    <tr style=\"text-align: right;\">\n",
              "      <th></th>\n",
              "      <th>df_name</th>\n",
              "      <th>Train_size</th>\n",
              "      <th>Test_size</th>\n",
              "      <th>Train_MAE</th>\n",
              "      <th>Test_MAE</th>\n",
              "      <th>Hyperparam_tried</th>\n",
              "      <th>Best_param</th>\n",
              "      <th>Min_User</th>\n",
              "      <th>Min_Item</th>\n",
              "    </tr>\n",
              "  </thead>\n",
              "  <tbody>\n",
              "    <tr>\n",
              "      <th>0</th>\n",
              "      <td>SGD_Combined_8_Datasets_5_core.p</td>\n",
              "      <td>99335</td>\n",
              "      <td>25232</td>\n",
              "      <td>0.452896</td>\n",
              "      <td>0.662271</td>\n",
              "      <td>{'lr': [0.01], 'reg': [0.1, 0.01], 'factors': ...</td>\n",
              "      <td>(0.01, 0.1, 2)</td>\n",
              "      <td>1</td>\n",
              "      <td>1</td>\n",
              "    </tr>\n",
              "    <tr>\n",
              "      <th>1</th>\n",
              "      <td>SGD_Combined_8_Datasets_5_core.p</td>\n",
              "      <td>99335</td>\n",
              "      <td>25232</td>\n",
              "      <td>0.452896</td>\n",
              "      <td>0.662271</td>\n",
              "      <td>{'lr': [0.01], 'reg': [0.1, 0.01], 'factors': ...</td>\n",
              "      <td>(0.01, 0.1, 5)</td>\n",
              "      <td>1</td>\n",
              "      <td>1</td>\n",
              "    </tr>\n",
              "    <tr>\n",
              "      <th>2</th>\n",
              "      <td>SGD_Combined_8_Datasets_5_core.p</td>\n",
              "      <td>99335</td>\n",
              "      <td>25232</td>\n",
              "      <td>0.309486</td>\n",
              "      <td>0.658582</td>\n",
              "      <td>{'lr': [0.01], 'reg': [0.1, 0.01], 'factors': ...</td>\n",
              "      <td>(0.01, 0.1, 20)</td>\n",
              "      <td>1</td>\n",
              "      <td>1</td>\n",
              "    </tr>\n",
              "    <tr>\n",
              "      <th>3</th>\n",
              "      <td>SGD_Combined_8_Datasets_5_core.p</td>\n",
              "      <td>99335</td>\n",
              "      <td>25232</td>\n",
              "      <td>0.430854</td>\n",
              "      <td>0.655787</td>\n",
              "      <td>{'lr': [0.01], 'reg': [0.1, 0.01], 'factors': ...</td>\n",
              "      <td>(0.01, 0.01, 2)</td>\n",
              "      <td>1</td>\n",
              "      <td>1</td>\n",
              "    </tr>\n",
              "    <tr>\n",
              "      <th>4</th>\n",
              "      <td>SGD_Combined_8_Datasets_5_core.p</td>\n",
              "      <td>99335</td>\n",
              "      <td>25232</td>\n",
              "      <td>0.430854</td>\n",
              "      <td>0.655787</td>\n",
              "      <td>{'lr': [0.01], 'reg': [0.1, 0.01], 'factors': ...</td>\n",
              "      <td>(0.01, 0.01, 5)</td>\n",
              "      <td>1</td>\n",
              "      <td>1</td>\n",
              "    </tr>\n",
              "    <tr>\n",
              "      <th>5</th>\n",
              "      <td>SGD_Combined_8_Datasets_5_core.p</td>\n",
              "      <td>99335</td>\n",
              "      <td>25232</td>\n",
              "      <td>0.430854</td>\n",
              "      <td>0.655787</td>\n",
              "      <td>{'lr': [0.01], 'reg': [0.1, 0.01], 'factors': ...</td>\n",
              "      <td>(0.01, 0.01, 20)</td>\n",
              "      <td>1</td>\n",
              "      <td>1</td>\n",
              "    </tr>\n",
              "  </tbody>\n",
              "</table>\n",
              "</div>"
            ],
            "text/plain": [
              "                            df_name Train_size  ... Min_User  Min_Item\n",
              "0  SGD_Combined_8_Datasets_5_core.p      99335  ...        1         1\n",
              "1  SGD_Combined_8_Datasets_5_core.p      99335  ...        1         1\n",
              "2  SGD_Combined_8_Datasets_5_core.p      99335  ...        1         1\n",
              "3  SGD_Combined_8_Datasets_5_core.p      99335  ...        1         1\n",
              "4  SGD_Combined_8_Datasets_5_core.p      99335  ...        1         1\n",
              "5  SGD_Combined_8_Datasets_5_core.p      99335  ...        1         1\n",
              "\n",
              "[6 rows x 9 columns]"
            ]
          },
          "metadata": {
            "tags": []
          },
          "execution_count": 136
        },
        {
          "output_type": "stream",
          "text": [
            "time: 36.1 ms (started: 2021-05-04 19:30:02 +00:00)\n"
          ],
          "name": "stdout"
        }
      ]
    },
    {
      "cell_type": "markdown",
      "metadata": {
        "id": "YVXE6m032CAu"
      },
      "source": [
        "Appending predicted ratings from ALS and SGD models"
      ]
    },
    {
      "cell_type": "code",
      "metadata": {
        "colab": {
          "base_uri": "https://localhost:8080/"
        },
        "id": "SjoxKoEs2CAv",
        "outputId": "45c1617e-f3be-4648-dce3-1a4ed406828f"
      },
      "source": [
        "# Apply function to compute predicted rating by loaded model vectors and append column\n",
        "p = model_sgd[\"user_vectors\"]\n",
        "q = model_sgd[\"item_vectors\"]\n",
        "user_mapping = model_sgd[\"user_mapping\"]\n",
        "item_mapping = model_sgd[\"item_mapping\"]\n",
        "test_set['SGD_predicted'] = test_set.apply(lambda row: np.dot(p[int(row.uid),:],q[:,int(row.iid)].T), axis=1)"
      ],
      "execution_count": 137,
      "outputs": [
        {
          "output_type": "stream",
          "text": [
            "time: 631 ms (started: 2021-05-04 19:30:28 +00:00)\n"
          ],
          "name": "stdout"
        }
      ]
    },
    {
      "cell_type": "code",
      "metadata": {
        "colab": {
          "base_uri": "https://localhost:8080/"
        },
        "id": "5G-bsu5K2CAv",
        "outputId": "5ac6c88a-f067-4ab2-f322-3075550575b6"
      },
      "source": [
        "p = model_als[\"user_vectors\"]\n",
        "q = model_als[\"item_vectors\"]\n",
        "user_mapping = model_als[\"user_mapping\"]\n",
        "item_mapping = model_als[\"item_mapping\"]\n",
        "test_set['ALS_predicted'] = test_set.apply(lambda row: np.dot(p[int(row.uid),:],q[:,int(row.iid)].T), axis=1)"
      ],
      "execution_count": 138,
      "outputs": [
        {
          "output_type": "stream",
          "text": [
            "time: 751 ms (started: 2021-05-04 19:30:31 +00:00)\n"
          ],
          "name": "stdout"
        }
      ]
    },
    {
      "cell_type": "code",
      "metadata": {
        "colab": {
          "base_uri": "https://localhost:8080/",
          "height": 207
        },
        "id": "etngF0Qu2CAv",
        "outputId": "b2331280-5c54-4267-de49-b2f56cd76cc7"
      },
      "source": [
        "test_set.head()"
      ],
      "execution_count": 139,
      "outputs": [
        {
          "output_type": "execute_result",
          "data": {
            "text/html": [
              "<div>\n",
              "<style scoped>\n",
              "    .dataframe tbody tr th:only-of-type {\n",
              "        vertical-align: middle;\n",
              "    }\n",
              "\n",
              "    .dataframe tbody tr th {\n",
              "        vertical-align: top;\n",
              "    }\n",
              "\n",
              "    .dataframe thead th {\n",
              "        text-align: right;\n",
              "    }\n",
              "</style>\n",
              "<table border=\"1\" class=\"dataframe\">\n",
              "  <thead>\n",
              "    <tr style=\"text-align: right;\">\n",
              "      <th></th>\n",
              "      <th>uid</th>\n",
              "      <th>iid</th>\n",
              "      <th>ratings</th>\n",
              "      <th>timestamp</th>\n",
              "      <th>SGD_predicted</th>\n",
              "      <th>ALS_predicted</th>\n",
              "    </tr>\n",
              "  </thead>\n",
              "  <tbody>\n",
              "    <tr>\n",
              "      <th>66489</th>\n",
              "      <td>0</td>\n",
              "      <td>3383</td>\n",
              "      <td>5.0</td>\n",
              "      <td>1470960000</td>\n",
              "      <td>3.015044</td>\n",
              "      <td>3.908310</td>\n",
              "    </tr>\n",
              "    <tr>\n",
              "      <th>10564</th>\n",
              "      <td>0</td>\n",
              "      <td>3908</td>\n",
              "      <td>5.0</td>\n",
              "      <td>1505779200</td>\n",
              "      <td>3.874626</td>\n",
              "      <td>4.878887</td>\n",
              "    </tr>\n",
              "    <tr>\n",
              "      <th>34366</th>\n",
              "      <td>1</td>\n",
              "      <td>206</td>\n",
              "      <td>5.0</td>\n",
              "      <td>1441152000</td>\n",
              "      <td>5.159510</td>\n",
              "      <td>4.318079</td>\n",
              "    </tr>\n",
              "    <tr>\n",
              "      <th>64536</th>\n",
              "      <td>1</td>\n",
              "      <td>1681</td>\n",
              "      <td>5.0</td>\n",
              "      <td>1486512000</td>\n",
              "      <td>3.644022</td>\n",
              "      <td>4.475553</td>\n",
              "    </tr>\n",
              "    <tr>\n",
              "      <th>1212</th>\n",
              "      <td>2</td>\n",
              "      <td>197</td>\n",
              "      <td>5.0</td>\n",
              "      <td>1369526400</td>\n",
              "      <td>5.396424</td>\n",
              "      <td>4.983642</td>\n",
              "    </tr>\n",
              "  </tbody>\n",
              "</table>\n",
              "</div>"
            ],
            "text/plain": [
              "       uid   iid  ratings   timestamp  SGD_predicted  ALS_predicted\n",
              "66489    0  3383      5.0  1470960000       3.015044       3.908310\n",
              "10564    0  3908      5.0  1505779200       3.874626       4.878887\n",
              "34366    1   206      5.0  1441152000       5.159510       4.318079\n",
              "64536    1  1681      5.0  1486512000       3.644022       4.475553\n",
              "1212     2   197      5.0  1369526400       5.396424       4.983642"
            ]
          },
          "metadata": {
            "tags": []
          },
          "execution_count": 139
        },
        {
          "output_type": "stream",
          "text": [
            "time: 19.5 ms (started: 2021-05-04 19:30:34 +00:00)\n"
          ],
          "name": "stdout"
        }
      ]
    },
    {
      "cell_type": "code",
      "metadata": {
        "colab": {
          "base_uri": "https://localhost:8080/"
        },
        "id": "O2iaSplr2CAw",
        "outputId": "1ac2d2bd-66cc-4b90-a7f8-f0668b779c2b"
      },
      "source": [
        "# we create another copy of test set with \n",
        "test_set_10 = test_set[test_set['uid'].map(test_set['uid'].value_counts()) > 8]"
      ],
      "execution_count": 142,
      "outputs": [
        {
          "output_type": "stream",
          "text": [
            "time: 14.6 ms (started: 2021-05-04 19:30:47 +00:00)\n"
          ],
          "name": "stdout"
        }
      ]
    },
    {
      "cell_type": "markdown",
      "metadata": {
        "id": "w48hzl6V2CAw"
      },
      "source": [
        "Following is the number of users with more than 10 ratings"
      ]
    },
    {
      "cell_type": "code",
      "metadata": {
        "colab": {
          "base_uri": "https://localhost:8080/"
        },
        "id": "d0NL_ODZ2CAw",
        "outputId": "e941d7ca-faf2-4288-dfdc-f7a809d8c3a7"
      },
      "source": [
        "len(test_set_10.uid.unique())"
      ],
      "execution_count": 143,
      "outputs": [
        {
          "output_type": "execute_result",
          "data": {
            "text/plain": [
              "49"
            ]
          },
          "metadata": {
            "tags": []
          },
          "execution_count": 143
        },
        {
          "output_type": "stream",
          "text": [
            "time: 6.84 ms (started: 2021-05-04 19:30:48 +00:00)\n"
          ],
          "name": "stdout"
        }
      ]
    },
    {
      "cell_type": "markdown",
      "metadata": {
        "id": "eX31UP7k2CAx"
      },
      "source": [
        "Hit ratio with 20 items"
      ]
    },
    {
      "cell_type": "code",
      "metadata": {
        "colab": {
          "base_uri": "https://localhost:8080/"
        },
        "id": "FwEs6Ny52CAx",
        "outputId": "d0fed87f-745d-4076-ab62-90b97a247055"
      },
      "source": [
        "# recommended_list = [[]for _ in test_set_100.uid.unique()] # for each user in the test_set_15 set find the hit rate - no. of relevant items recommended\n",
        "# for i, user_id in enumerate(test_set_100.uid.to_list()):\n",
        "#   recommened_list[i] = recommend(model_sgd, 100, item_name_mapping, user_id)"
      ],
      "execution_count": null,
      "outputs": [
        {
          "output_type": "stream",
          "text": [
            "time: 1.32 ms (started: 2021-05-04 18:44:42 +00:00)\n"
          ],
          "name": "stdout"
        }
      ]
    },
    {
      "cell_type": "markdown",
      "metadata": {
        "id": "5SVP7NWF2CAx"
      },
      "source": [
        "Recall@k and Precision@k, k = 3, threshold = 3, for all users who have rated atleast 10 items"
      ]
    },
    {
      "cell_type": "code",
      "metadata": {
        "colab": {
          "base_uri": "https://localhost:8080/"
        },
        "id": "JVrqmamu2CAx",
        "outputId": "e0acada7-31ca-4d21-b186-b87fd2f3a59a"
      },
      "source": [
        "precisions, recalls = precision_and_recalls_atK(test_set_10, threshold, 3)\n",
        "# Precision and recall can then be averaged over all users\n",
        "print(round(sum(prec for prec in precisions.values()) / len(precisions),3))\n",
        "print(round(sum(rec for rec in recalls.values()) / len(recalls),3))"
      ],
      "execution_count": 144,
      "outputs": [
        {
          "output_type": "stream",
          "text": [
            "0.912\n",
            "0.253\n",
            "time: 60.2 ms (started: 2021-05-04 19:31:08 +00:00)\n"
          ],
          "name": "stdout"
        }
      ]
    },
    {
      "cell_type": "markdown",
      "metadata": {
        "id": "j8YZyScm2CAy"
      },
      "source": [
        "Recall@k and Precision@k, k = 5, threshold = 4, for all users who have rated atleast 10 items"
      ]
    },
    {
      "cell_type": "code",
      "metadata": {
        "colab": {
          "base_uri": "https://localhost:8080/"
        },
        "id": "QDmTYqmn2CAy",
        "outputId": "a97f2c25-f93e-43ee-f9d8-dd6da0894381"
      },
      "source": [
        "precisions, recalls = precision_and_recalls_atK(test_set_10, 3, 3)\n",
        "# Precision and recall can then be averaged over all users\n",
        "print(round(sum(prec for prec in precisions.values()) / len(precisions),3))\n",
        "print(round(sum(rec for rec in recalls.values()) / len(recalls),3))"
      ],
      "execution_count": 146,
      "outputs": [
        {
          "output_type": "stream",
          "text": [
            "0.912\n",
            "0.253\n",
            "time: 61.4 ms (started: 2021-05-04 19:31:20 +00:00)\n"
          ],
          "name": "stdout"
        }
      ]
    },
    {
      "cell_type": "markdown",
      "metadata": {
        "id": "-fg_fK-o2CAy"
      },
      "source": [
        "Recall@k and Precision@k, k = 3, threshold = 4, for all users who have rated atleast 5 items"
      ]
    },
    {
      "cell_type": "code",
      "metadata": {
        "colab": {
          "base_uri": "https://localhost:8080/"
        },
        "id": "0mz6Ea3-2CAy",
        "outputId": "3f89f263-91e2-4b37-8e84-fa5b2534c891"
      },
      "source": [
        "# we create another copy of test set with \n",
        "test_set_5 = test_set[test_set['uid'].map(test_set['uid'].value_counts()) > 5]\n",
        "precisions, recalls = precision_and_recalls_atK(test_set_10, 4, 3)\n",
        "# Precision and recall can then be averaged over all users\n",
        "print(round(sum(prec for prec in precisions.values()) / len(precisions),3))\n",
        "print(round(sum(rec for rec in recalls.values()) / len(recalls),3))"
      ],
      "execution_count": 147,
      "outputs": [
        {
          "output_type": "stream",
          "text": [
            "0.673\n",
            "0.217\n",
            "time: 64.3 ms (started: 2021-05-04 19:31:22 +00:00)\n"
          ],
          "name": "stdout"
        }
      ]
    },
    {
      "cell_type": "markdown",
      "metadata": {
        "id": "naXKZFvV2CAz"
      },
      "source": [
        "RMSE for test set"
      ]
    },
    {
      "cell_type": "code",
      "metadata": {
        "colab": {
          "base_uri": "https://localhost:8080/"
        },
        "id": "jEvFbmZX2CAz",
        "outputId": "5d928989-ca8e-4e12-ddbd-fc0891927fea"
      },
      "source": [
        "from sklearn.metrics import mean_squared_error\n",
        "from sklearn.metrics import mean_absolute_error\n",
        "\n",
        "rms = mean_squared_error(test_set.ratings, test_set.SGD_predicted, squared=False)\n",
        "mae = mean_absolute_error(test_set.ratings, test_set.SGD_predicted)\n",
        "rms_als = mean_squared_error(test_set.ratings, test_set.ALS_predicted, squared=False)\n",
        "mae_als = mean_absolute_error(test_set.ratings, test_set.ALS_predicted)\n",
        "print(rms)\n",
        "print(mae)  # this is same as was obtained during training as our test set is the validation set.\n",
        "print(rms_als)\n",
        "print(mae_als)"
      ],
      "execution_count": 148,
      "outputs": [
        {
          "output_type": "stream",
          "text": [
            "1.4607727925302203\n",
            "1.0991307929552814\n",
            "1.1713557500990026\n",
            "0.7739361607519394\n",
            "time: 15 ms (started: 2021-05-04 19:31:25 +00:00)\n"
          ],
          "name": "stdout"
        }
      ]
    },
    {
      "cell_type": "code",
      "metadata": {
        "colab": {
          "base_uri": "https://localhost:8080/"
        },
        "id": "CTAJh89t2CAz",
        "outputId": "3966ad92-7ef2-4ed2-dee6-b65c7fcb31f0"
      },
      "source": [
        "print(round(model_sgd[\"best_test_mae\"]/len(model_sgd[\"test\"]),4))"
      ],
      "execution_count": 159,
      "outputs": [
        {
          "output_type": "stream",
          "text": [
            "0.6558\n",
            "time: 1.61 ms (started: 2021-05-04 19:34:04 +00:00)\n"
          ],
          "name": "stdout"
        }
      ]
    },
    {
      "cell_type": "code",
      "metadata": {
        "id": "Rsl6JpsR2CA0"
      },
      "source": [
        ""
      ],
      "execution_count": null,
      "outputs": []
    },
    {
      "cell_type": "markdown",
      "metadata": {
        "id": "gx8yHLpO60XI"
      },
      "source": [
        "## Software 5-core 2018 dataset - analysis with changing min_user_rated and min_item_rated\n",
        "\n",
        "Here, since this is a small dataset, we have run the SGD algorithm multiple times varying the minimum no. of items users has rated"
      ]
    },
    {
      "cell_type": "markdown",
      "metadata": {
        "id": "JnhaP_g57tvr"
      },
      "source": [
        "### Model 1 - Minimum Items User must have rated  - 5, min users that must have rated item - 2"
      ]
    },
    {
      "cell_type": "code",
      "metadata": {
        "colab": {
          "base_uri": "https://localhost:8080/",
          "height": 330
        },
        "id": "YK8H8Stf65x9",
        "outputId": "5092e0d5-be03-4fb0-9770-7c4c69cdf2ee"
      },
      "source": [
        "# read model and plot graph\n",
        "model_sgd = pickle.load(open('/content/5Core_5User_2Item.p','rb'))\n",
        "train_set = model_sgd['train']\n",
        "test_set = model_sgd['test']\n",
        "train_mae = model_sgd['train_mae']\n",
        "test_mae = model_sgd['test_mae']\n",
        "print(f'no. of users {len(model_sgd[\"user_mapping\"].keys())}')\n",
        "print(f'no. of items {len(model_sgd[\"item_mapping\"].keys())}')\n",
        "plt.plot([i/len(train_set) for i in train_mae])\n",
        "plt.plot([i/len(test_set) for i in test_mae])\n",
        "plt.legend(['train', 'validation'], loc='upper right')"
      ],
      "execution_count": 164,
      "outputs": [
        {
          "output_type": "stream",
          "text": [
            "no. of users 1459\n",
            "no. of items 747\n"
          ],
          "name": "stdout"
        },
        {
          "output_type": "execute_result",
          "data": {
            "text/plain": [
              "<matplotlib.legend.Legend at 0x7f136106c110>"
            ]
          },
          "metadata": {
            "tags": []
          },
          "execution_count": 164
        },
        {
          "output_type": "display_data",
          "data": {
            "image/png": "[encoded data removed]",
            "text/plain": [
              "<Figure size 432x288 with 1 Axes>"
            ]
          },
          "metadata": {
            "tags": [],
            "needs_background": "light"
          }
        },
        {
          "output_type": "stream",
          "text": [
            "time: 196 ms (started: 2021-05-04 20:01:34 +00:00)\n"
          ],
          "name": "stdout"
        }
      ]
    },
    {
      "cell_type": "markdown",
      "metadata": {
        "id": "VLYQhM2y-Pci"
      },
      "source": [
        "Corresponding summary for above models"
      ]
    },
    {
      "cell_type": "code",
      "metadata": {
        "colab": {
          "base_uri": "https://localhost:8080/",
          "height": 207
        },
        "id": "DUQTy6_u-R3G",
        "outputId": "72ff649a-5b8f-490f-da10-0fe9377b0662"
      },
      "source": [
        "results_df_sgd = pickle.load(open('/content/Software_5_results_summary',\"rb\"))\n",
        "results_df_sgd['df_name'] = 'SGD_Software_5' # correcting error\n",
        "results_df_sgd.head()"
      ],
      "execution_count": 166,
      "outputs": [
        {
          "output_type": "execute_result",
          "data": {
            "text/html": [
              "<div>\n",
              "<style scoped>\n",
              "    .dataframe tbody tr th:only-of-type {\n",
              "        vertical-align: middle;\n",
              "    }\n",
              "\n",
              "    .dataframe tbody tr th {\n",
              "        vertical-align: top;\n",
              "    }\n",
              "\n",
              "    .dataframe thead th {\n",
              "        text-align: right;\n",
              "    }\n",
              "</style>\n",
              "<table border=\"1\" class=\"dataframe\">\n",
              "  <thead>\n",
              "    <tr style=\"text-align: right;\">\n",
              "      <th></th>\n",
              "      <th>df_name</th>\n",
              "      <th>Train_size</th>\n",
              "      <th>Test_size</th>\n",
              "      <th>Train_MAE</th>\n",
              "      <th>Test_MAE</th>\n",
              "      <th>Hyperparam_tried</th>\n",
              "      <th>Best_param</th>\n",
              "      <th>Min_User</th>\n",
              "      <th>Min_Item</th>\n",
              "    </tr>\n",
              "  </thead>\n",
              "  <tbody>\n",
              "    <tr>\n",
              "      <th>0</th>\n",
              "      <td>SGD_Software_5</td>\n",
              "      <td>8404</td>\n",
              "      <td>2014</td>\n",
              "      <td>0.630374</td>\n",
              "      <td>0.932870</td>\n",
              "      <td>{'lr': [0.01], 'reg': [0.1, 0.01], 'factors': ...</td>\n",
              "      <td>(0.01, 0.1, 2)</td>\n",
              "      <td>5</td>\n",
              "      <td>2</td>\n",
              "    </tr>\n",
              "    <tr>\n",
              "      <th>1</th>\n",
              "      <td>SGD_Software_5</td>\n",
              "      <td>8404</td>\n",
              "      <td>2014</td>\n",
              "      <td>0.568143</td>\n",
              "      <td>0.929708</td>\n",
              "      <td>{'lr': [0.01], 'reg': [0.1, 0.01], 'factors': ...</td>\n",
              "      <td>(0.01, 0.1, 5)</td>\n",
              "      <td>5</td>\n",
              "      <td>2</td>\n",
              "    </tr>\n",
              "    <tr>\n",
              "      <th>2</th>\n",
              "      <td>SGD_Software_5</td>\n",
              "      <td>8404</td>\n",
              "      <td>2014</td>\n",
              "      <td>0.400961</td>\n",
              "      <td>0.890206</td>\n",
              "      <td>{'lr': [0.01], 'reg': [0.1, 0.01], 'factors': ...</td>\n",
              "      <td>(0.01, 0.1, 20)</td>\n",
              "      <td>5</td>\n",
              "      <td>2</td>\n",
              "    </tr>\n",
              "    <tr>\n",
              "      <th>3</th>\n",
              "      <td>SGD_Software_5</td>\n",
              "      <td>8404</td>\n",
              "      <td>2014</td>\n",
              "      <td>0.400961</td>\n",
              "      <td>0.890206</td>\n",
              "      <td>{'lr': [0.01], 'reg': [0.1, 0.01], 'factors': ...</td>\n",
              "      <td>(0.01, 0.01, 2)</td>\n",
              "      <td>5</td>\n",
              "      <td>2</td>\n",
              "    </tr>\n",
              "    <tr>\n",
              "      <th>4</th>\n",
              "      <td>SGD_Software_5</td>\n",
              "      <td>8404</td>\n",
              "      <td>2014</td>\n",
              "      <td>0.400961</td>\n",
              "      <td>0.890206</td>\n",
              "      <td>{'lr': [0.01], 'reg': [0.1, 0.01], 'factors': ...</td>\n",
              "      <td>(0.01, 0.01, 5)</td>\n",
              "      <td>5</td>\n",
              "      <td>2</td>\n",
              "    </tr>\n",
              "  </tbody>\n",
              "</table>\n",
              "</div>"
            ],
            "text/plain": [
              "          df_name Train_size Test_size  ...       Best_param  Min_User Min_Item\n",
              "0  SGD_Software_5       8404      2014  ...   (0.01, 0.1, 2)         5        2\n",
              "1  SGD_Software_5       8404      2014  ...   (0.01, 0.1, 5)         5        2\n",
              "2  SGD_Software_5       8404      2014  ...  (0.01, 0.1, 20)         5        2\n",
              "3  SGD_Software_5       8404      2014  ...  (0.01, 0.01, 2)         5        2\n",
              "4  SGD_Software_5       8404      2014  ...  (0.01, 0.01, 5)         5        2\n",
              "\n",
              "[5 rows x 9 columns]"
            ]
          },
          "metadata": {
            "tags": []
          },
          "execution_count": 166
        },
        {
          "output_type": "stream",
          "text": [
            "time: 35.3 ms (started: 2021-05-04 20:03:16 +00:00)\n"
          ],
          "name": "stdout"
        }
      ]
    },
    {
      "cell_type": "markdown",
      "metadata": {
        "id": "c1D6ZY8z_wmq"
      },
      "source": [
        "### Model2 - Minimum Items User must have rated - 5, min users that must have rated item - 5"
      ]
    },
    {
      "cell_type": "code",
      "metadata": {
        "colab": {
          "base_uri": "https://localhost:8080/",
          "height": 330
        },
        "id": "0qyBN8Qq9hyi",
        "outputId": "18986558-6f47-4b21-81dd-ed5e0af26135"
      },
      "source": [
        "# read model and plot graph\n",
        "model_sgd = pickle.load(open('/content/5Core_5User_5Item.p','rb'))\n",
        "train_set = model_sgd['train']\n",
        "test_set = model_sgd['test']\n",
        "train_mae = model_sgd['train_mae']\n",
        "test_mae = model_sgd['test_mae']\n",
        "print(f'no. of users {len(model_sgd[\"user_mapping\"].keys())}')\n",
        "print(f'no. of items {len(model_sgd[\"item_mapping\"].keys())}')\n",
        "plt.plot([i/len(train_set) for i in train_mae])\n",
        "plt.plot([i/len(test_set) for i in test_mae])\n",
        "plt.legend(['train', 'validation'], loc='upper right')"
      ],
      "execution_count": 167,
      "outputs": [
        {
          "output_type": "stream",
          "text": [
            "no. of users 1459\n",
            "no. of items 682\n"
          ],
          "name": "stdout"
        },
        {
          "output_type": "execute_result",
          "data": {
            "text/plain": [
              "<matplotlib.legend.Legend at 0x7f135a3a9a10>"
            ]
          },
          "metadata": {
            "tags": []
          },
          "execution_count": 167
        },
        {
          "output_type": "display_data",
          "data": {
            "image/png": "[encoded data removed]",
            "text/plain": [
              "<Figure size 432x288 with 1 Axes>"
            ]
          },
          "metadata": {
            "tags": [],
            "needs_background": "light"
          }
        },
        {
          "output_type": "stream",
          "text": [
            "time: 189 ms (started: 2021-05-04 20:03:44 +00:00)\n"
          ],
          "name": "stdout"
        }
      ]
    },
    {
      "cell_type": "code",
      "metadata": {
        "colab": {
          "base_uri": "https://localhost:8080/",
          "height": 236
        },
        "id": "QE8i7d7x-Z8-",
        "outputId": "98ac454b-42e3-4906-b595-0831520e9501"
      },
      "source": [
        "results_df_sgd = pickle.load(open('/content/Software_5_results_summary_2',\"rb\"))\n",
        "results_df_sgd['df_name'] = 'SGD_Software_5' # correcting error\n",
        "results_df_sgd"
      ],
      "execution_count": 169,
      "outputs": [
        {
          "output_type": "execute_result",
          "data": {
            "text/html": [
              "<div>\n",
              "<style scoped>\n",
              "    .dataframe tbody tr th:only-of-type {\n",
              "        vertical-align: middle;\n",
              "    }\n",
              "\n",
              "    .dataframe tbody tr th {\n",
              "        vertical-align: top;\n",
              "    }\n",
              "\n",
              "    .dataframe thead th {\n",
              "        text-align: right;\n",
              "    }\n",
              "</style>\n",
              "<table border=\"1\" class=\"dataframe\">\n",
              "  <thead>\n",
              "    <tr style=\"text-align: right;\">\n",
              "      <th></th>\n",
              "      <th>df_name</th>\n",
              "      <th>Train_size</th>\n",
              "      <th>Test_size</th>\n",
              "      <th>Train_MAE</th>\n",
              "      <th>Test_MAE</th>\n",
              "      <th>Hyperparam_tried</th>\n",
              "      <th>Best_param</th>\n",
              "      <th>Min_User</th>\n",
              "      <th>Min_Item</th>\n",
              "    </tr>\n",
              "  </thead>\n",
              "  <tbody>\n",
              "    <tr>\n",
              "      <th>0</th>\n",
              "      <td>SGD_Software_5</td>\n",
              "      <td>8234</td>\n",
              "      <td>1985</td>\n",
              "      <td>0.633834</td>\n",
              "      <td>0.950659</td>\n",
              "      <td>{'lr': [0.01], 'reg': [0.1, 0.01], 'factors': ...</td>\n",
              "      <td>(0.01, 0.1, 2)</td>\n",
              "      <td>5</td>\n",
              "      <td>5</td>\n",
              "    </tr>\n",
              "    <tr>\n",
              "      <th>1</th>\n",
              "      <td>SGD_Software_5</td>\n",
              "      <td>8234</td>\n",
              "      <td>1985</td>\n",
              "      <td>0.596090</td>\n",
              "      <td>0.945914</td>\n",
              "      <td>{'lr': [0.01], 'reg': [0.1, 0.01], 'factors': ...</td>\n",
              "      <td>(0.01, 0.1, 5)</td>\n",
              "      <td>5</td>\n",
              "      <td>5</td>\n",
              "    </tr>\n",
              "    <tr>\n",
              "      <th>2</th>\n",
              "      <td>SGD_Software_5</td>\n",
              "      <td>8234</td>\n",
              "      <td>1985</td>\n",
              "      <td>0.449861</td>\n",
              "      <td>0.878578</td>\n",
              "      <td>{'lr': [0.01], 'reg': [0.1, 0.01], 'factors': ...</td>\n",
              "      <td>(0.01, 0.1, 20)</td>\n",
              "      <td>5</td>\n",
              "      <td>5</td>\n",
              "    </tr>\n",
              "    <tr>\n",
              "      <th>3</th>\n",
              "      <td>SGD_Software_5</td>\n",
              "      <td>8234</td>\n",
              "      <td>1985</td>\n",
              "      <td>0.449861</td>\n",
              "      <td>0.878578</td>\n",
              "      <td>{'lr': [0.01], 'reg': [0.1, 0.01], 'factors': ...</td>\n",
              "      <td>(0.01, 0.01, 2)</td>\n",
              "      <td>5</td>\n",
              "      <td>5</td>\n",
              "    </tr>\n",
              "    <tr>\n",
              "      <th>4</th>\n",
              "      <td>SGD_Software_5</td>\n",
              "      <td>8234</td>\n",
              "      <td>1985</td>\n",
              "      <td>0.449861</td>\n",
              "      <td>0.878578</td>\n",
              "      <td>{'lr': [0.01], 'reg': [0.1, 0.01], 'factors': ...</td>\n",
              "      <td>(0.01, 0.01, 5)</td>\n",
              "      <td>5</td>\n",
              "      <td>5</td>\n",
              "    </tr>\n",
              "    <tr>\n",
              "      <th>5</th>\n",
              "      <td>SGD_Software_5</td>\n",
              "      <td>8234</td>\n",
              "      <td>1985</td>\n",
              "      <td>0.449861</td>\n",
              "      <td>0.878578</td>\n",
              "      <td>{'lr': [0.01], 'reg': [0.1, 0.01], 'factors': ...</td>\n",
              "      <td>(0.01, 0.01, 20)</td>\n",
              "      <td>5</td>\n",
              "      <td>5</td>\n",
              "    </tr>\n",
              "  </tbody>\n",
              "</table>\n",
              "</div>"
            ],
            "text/plain": [
              "          df_name Train_size Test_size  ...        Best_param  Min_User Min_Item\n",
              "0  SGD_Software_5       8234      1985  ...    (0.01, 0.1, 2)         5        5\n",
              "1  SGD_Software_5       8234      1985  ...    (0.01, 0.1, 5)         5        5\n",
              "2  SGD_Software_5       8234      1985  ...   (0.01, 0.1, 20)         5        5\n",
              "3  SGD_Software_5       8234      1985  ...   (0.01, 0.01, 2)         5        5\n",
              "4  SGD_Software_5       8234      1985  ...   (0.01, 0.01, 5)         5        5\n",
              "5  SGD_Software_5       8234      1985  ...  (0.01, 0.01, 20)         5        5\n",
              "\n",
              "[6 rows x 9 columns]"
            ]
          },
          "metadata": {
            "tags": []
          },
          "execution_count": 169
        },
        {
          "output_type": "stream",
          "text": [
            "time: 34.4 ms (started: 2021-05-04 20:04:23 +00:00)\n"
          ],
          "name": "stdout"
        }
      ]
    },
    {
      "cell_type": "code",
      "metadata": {
        "id": "SbDqJfSu-vuI"
      },
      "source": [
        ""
      ],
      "execution_count": null,
      "outputs": []
    },
    {
      "cell_type": "markdown",
      "metadata": {
        "id": "L9TnVst7AU0p"
      },
      "source": [
        "## Digital Music_5 2018 dataset - SGD\n",
        "\n",
        "\n"
      ]
    },
    {
      "cell_type": "code",
      "metadata": {
        "colab": {
          "base_uri": "https://localhost:8080/",
          "height": 330
        },
        "id": "B-M0WXdsAXT8",
        "outputId": "5a5026c3-bb4c-4583-b292-21616a754996"
      },
      "source": [
        "# read model and plot graph\n",
        "model_sgd = pickle.load(open('/content/SGD_Digital_Music_2018.p','rb'))\n",
        "train_set = model_sgd['train']\n",
        "test_set = model_sgd['test']\n",
        "train_mae = model_sgd['train_mae']\n",
        "test_mae = model_sgd['test_mae']\n",
        "print(f'no. of users {len(model_sgd[\"user_mapping\"].keys())}')\n",
        "print(f'no. of items {len(model_sgd[\"item_mapping\"].keys())}')\n",
        "plt.plot([i/len(train_set) for i in train_mae])\n",
        "plt.plot([i/len(test_set) for i in test_mae])\n",
        "plt.legend(['train', 'validation'], loc='upper right')"
      ],
      "execution_count": 170,
      "outputs": [
        {
          "output_type": "stream",
          "text": [
            "no. of users 13256\n",
            "no. of items 11626\n"
          ],
          "name": "stdout"
        },
        {
          "output_type": "execute_result",
          "data": {
            "text/plain": [
              "<matplotlib.legend.Legend at 0x7f135a371c90>"
            ]
          },
          "metadata": {
            "tags": []
          },
          "execution_count": 170
        },
        {
          "output_type": "display_data",
          "data": {
            "image/png": "[encoded data removed]",
            "text/plain": [
              "<Figure size 432x288 with 1 Axes>"
            ]
          },
          "metadata": {
            "tags": [],
            "needs_background": "light"
          }
        },
        {
          "output_type": "stream",
          "text": [
            "time: 215 ms (started: 2021-05-04 20:12:54 +00:00)\n"
          ],
          "name": "stdout"
        }
      ]
    },
    {
      "cell_type": "code",
      "metadata": {
        "colab": {
          "base_uri": "https://localhost:8080/",
          "height": 236
        },
        "id": "2piCAqdyAxZ3",
        "outputId": "e0dfac86-4cb2-45cc-ebfe-9501ffe3321c"
      },
      "source": [
        "results_df_sgd = pickle.load(open('/content/Digital_Music_5_results_summary_2',\"rb\"))\n",
        "# results_df_sgd['df_name'] = 'SGD_Software_5' # correcting error\n",
        "results_df_sgd"
      ],
      "execution_count": 171,
      "outputs": [
        {
          "output_type": "execute_result",
          "data": {
            "text/html": [
              "<div>\n",
              "<style scoped>\n",
              "    .dataframe tbody tr th:only-of-type {\n",
              "        vertical-align: middle;\n",
              "    }\n",
              "\n",
              "    .dataframe tbody tr th {\n",
              "        vertical-align: top;\n",
              "    }\n",
              "\n",
              "    .dataframe thead th {\n",
              "        text-align: right;\n",
              "    }\n",
              "</style>\n",
              "<table border=\"1\" class=\"dataframe\">\n",
              "  <thead>\n",
              "    <tr style=\"text-align: right;\">\n",
              "      <th></th>\n",
              "      <th>df_name</th>\n",
              "      <th>Train_size</th>\n",
              "      <th>Test_size</th>\n",
              "      <th>Train_MAE</th>\n",
              "      <th>Test_MAE</th>\n",
              "      <th>Hyperparam_tried</th>\n",
              "      <th>Best_param</th>\n",
              "      <th>Min_User</th>\n",
              "      <th>Min_Item</th>\n",
              "    </tr>\n",
              "  </thead>\n",
              "  <tbody>\n",
              "    <tr>\n",
              "      <th>0</th>\n",
              "      <td>SGD_Digital_Music.p</td>\n",
              "      <td>107039</td>\n",
              "      <td>26031</td>\n",
              "      <td>0.302842</td>\n",
              "      <td>0.407857</td>\n",
              "      <td>{'lr': [0.01], 'reg': [0.1, 0.01], 'factors': ...</td>\n",
              "      <td>(0.01, 0.1, 2)</td>\n",
              "      <td>5</td>\n",
              "      <td>2</td>\n",
              "    </tr>\n",
              "    <tr>\n",
              "      <th>1</th>\n",
              "      <td>SGD_Digital_Music.p</td>\n",
              "      <td>107039</td>\n",
              "      <td>26031</td>\n",
              "      <td>0.302842</td>\n",
              "      <td>0.407857</td>\n",
              "      <td>{'lr': [0.01], 'reg': [0.1, 0.01], 'factors': ...</td>\n",
              "      <td>(0.01, 0.1, 5)</td>\n",
              "      <td>5</td>\n",
              "      <td>2</td>\n",
              "    </tr>\n",
              "    <tr>\n",
              "      <th>2</th>\n",
              "      <td>SGD_Digital_Music.p</td>\n",
              "      <td>107039</td>\n",
              "      <td>26031</td>\n",
              "      <td>0.302842</td>\n",
              "      <td>0.407857</td>\n",
              "      <td>{'lr': [0.01], 'reg': [0.1, 0.01], 'factors': ...</td>\n",
              "      <td>(0.01, 0.1, 20)</td>\n",
              "      <td>5</td>\n",
              "      <td>2</td>\n",
              "    </tr>\n",
              "    <tr>\n",
              "      <th>3</th>\n",
              "      <td>SGD_Digital_Music.p</td>\n",
              "      <td>107039</td>\n",
              "      <td>26031</td>\n",
              "      <td>0.270333</td>\n",
              "      <td>0.393791</td>\n",
              "      <td>{'lr': [0.01], 'reg': [0.1, 0.01], 'factors': ...</td>\n",
              "      <td>(0.01, 0.01, 2)</td>\n",
              "      <td>5</td>\n",
              "      <td>2</td>\n",
              "    </tr>\n",
              "    <tr>\n",
              "      <th>4</th>\n",
              "      <td>SGD_Digital_Music.p</td>\n",
              "      <td>107039</td>\n",
              "      <td>26031</td>\n",
              "      <td>0.270333</td>\n",
              "      <td>0.393791</td>\n",
              "      <td>{'lr': [0.01], 'reg': [0.1, 0.01], 'factors': ...</td>\n",
              "      <td>(0.01, 0.01, 5)</td>\n",
              "      <td>5</td>\n",
              "      <td>2</td>\n",
              "    </tr>\n",
              "    <tr>\n",
              "      <th>5</th>\n",
              "      <td>SGD_Digital_Music.p</td>\n",
              "      <td>107039</td>\n",
              "      <td>26031</td>\n",
              "      <td>0.270333</td>\n",
              "      <td>0.393791</td>\n",
              "      <td>{'lr': [0.01], 'reg': [0.1, 0.01], 'factors': ...</td>\n",
              "      <td>(0.01, 0.01, 20)</td>\n",
              "      <td>5</td>\n",
              "      <td>2</td>\n",
              "    </tr>\n",
              "  </tbody>\n",
              "</table>\n",
              "</div>"
            ],
            "text/plain": [
              "               df_name Train_size Test_size  ...        Best_param  Min_User Min_Item\n",
              "0  SGD_Digital_Music.p     107039     26031  ...    (0.01, 0.1, 2)         5        2\n",
              "1  SGD_Digital_Music.p     107039     26031  ...    (0.01, 0.1, 5)         5        2\n",
              "2  SGD_Digital_Music.p     107039     26031  ...   (0.01, 0.1, 20)         5        2\n",
              "3  SGD_Digital_Music.p     107039     26031  ...   (0.01, 0.01, 2)         5        2\n",
              "4  SGD_Digital_Music.p     107039     26031  ...   (0.01, 0.01, 5)         5        2\n",
              "5  SGD_Digital_Music.p     107039     26031  ...  (0.01, 0.01, 20)         5        2\n",
              "\n",
              "[6 rows x 9 columns]"
            ]
          },
          "metadata": {
            "tags": []
          },
          "execution_count": 171
        },
        {
          "output_type": "stream",
          "text": [
            "time: 36.5 ms (started: 2021-05-04 20:13:44 +00:00)\n"
          ],
          "name": "stdout"
        }
      ]
    },
    {
      "cell_type": "markdown",
      "metadata": {
        "id": "5t7ZEASxBDt3"
      },
      "source": [
        "## Digital Music 5-core 2014 - SGD"
      ]
    },
    {
      "cell_type": "code",
      "metadata": {
        "colab": {
          "base_uri": "https://localhost:8080/",
          "height": 330
        },
        "id": "l9GvyOTQBHTl",
        "outputId": "714b3ca2-e028-43b7-80a3-98691506777c"
      },
      "source": [
        "# read model and plot graph\n",
        "model_sgd = pickle.load(open('/content/SGD_Digital_Music.p','rb'))\n",
        "train_set = model_sgd['train']\n",
        "test_set = model_sgd['test']\n",
        "train_mae = model_sgd['train_mae']\n",
        "test_mae = model_sgd['test_mae']\n",
        "print(f'no. of users {len(model_sgd[\"user_mapping\"].keys())}')\n",
        "print(f'no. of items {len(model_sgd[\"item_mapping\"].keys())}')\n",
        "plt.plot([i/len(train_set) for i in train_mae])\n",
        "plt.plot([i/len(test_set) for i in test_mae])\n",
        "plt.legend(['train', 'validation'], loc='upper right')"
      ],
      "execution_count": 172,
      "outputs": [
        {
          "output_type": "stream",
          "text": [
            "no. of users 5541\n",
            "no. of items 3568\n"
          ],
          "name": "stdout"
        },
        {
          "output_type": "execute_result",
          "data": {
            "text/plain": [
              "<matplotlib.legend.Legend at 0x7f1359e07a10>"
            ]
          },
          "metadata": {
            "tags": []
          },
          "execution_count": 172
        },
        {
          "output_type": "display_data",
          "data": {
            "image/png": "[encoded data removed]",
            "text/plain": [
              "<Figure size 432x288 with 1 Axes>"
            ]
          },
          "metadata": {
            "tags": [],
            "needs_background": "light"
          }
        },
        {
          "output_type": "stream",
          "text": [
            "time: 212 ms (started: 2021-05-04 20:16:20 +00:00)\n"
          ],
          "name": "stdout"
        }
      ]
    },
    {
      "cell_type": "code",
      "metadata": {
        "colab": {
          "base_uri": "https://localhost:8080/",
          "height": 236
        },
        "id": "FfnIXlj3Bjqd",
        "outputId": "e39d46a2-8d00-4468-b43a-001350f5bc6f"
      },
      "source": [
        "results_df_sgd = pickle.load(open('/content/Digital_Music_5_results_summary',\"rb\"))\n",
        "# results_df_sgd['df_name'] = 'SGD_Software_5' # correcting error\n",
        "results_df_sgd"
      ],
      "execution_count": 173,
      "outputs": [
        {
          "output_type": "execute_result",
          "data": {
            "text/html": [
              "<div>\n",
              "<style scoped>\n",
              "    .dataframe tbody tr th:only-of-type {\n",
              "        vertical-align: middle;\n",
              "    }\n",
              "\n",
              "    .dataframe tbody tr th {\n",
              "        vertical-align: top;\n",
              "    }\n",
              "\n",
              "    .dataframe thead th {\n",
              "        text-align: right;\n",
              "    }\n",
              "</style>\n",
              "<table border=\"1\" class=\"dataframe\">\n",
              "  <thead>\n",
              "    <tr style=\"text-align: right;\">\n",
              "      <th></th>\n",
              "      <th>df_name</th>\n",
              "      <th>Train_size</th>\n",
              "      <th>Test_size</th>\n",
              "      <th>Train_MAE</th>\n",
              "      <th>Test_MAE</th>\n",
              "      <th>Hyperparam_tried</th>\n",
              "      <th>Best_param</th>\n",
              "      <th>Min_User</th>\n",
              "      <th>Min_Item</th>\n",
              "    </tr>\n",
              "  </thead>\n",
              "  <tbody>\n",
              "    <tr>\n",
              "      <th>0</th>\n",
              "      <td>SGD_Digital_Music.p</td>\n",
              "      <td>51999</td>\n",
              "      <td>12707</td>\n",
              "      <td>0.572678</td>\n",
              "      <td>0.727261</td>\n",
              "      <td>{'lr': [0.01], 'reg': [0.1, 0.01], 'factors': ...</td>\n",
              "      <td>(0.01, 0.1, 2)</td>\n",
              "      <td>5</td>\n",
              "      <td>2</td>\n",
              "    </tr>\n",
              "    <tr>\n",
              "      <th>1</th>\n",
              "      <td>SGD_Digital_Music.p</td>\n",
              "      <td>51999</td>\n",
              "      <td>12707</td>\n",
              "      <td>0.572678</td>\n",
              "      <td>0.727261</td>\n",
              "      <td>{'lr': [0.01], 'reg': [0.1, 0.01], 'factors': ...</td>\n",
              "      <td>(0.01, 0.1, 5)</td>\n",
              "      <td>5</td>\n",
              "      <td>2</td>\n",
              "    </tr>\n",
              "    <tr>\n",
              "      <th>2</th>\n",
              "      <td>SGD_Digital_Music.p</td>\n",
              "      <td>51999</td>\n",
              "      <td>12707</td>\n",
              "      <td>0.572678</td>\n",
              "      <td>0.727261</td>\n",
              "      <td>{'lr': [0.01], 'reg': [0.1, 0.01], 'factors': ...</td>\n",
              "      <td>(0.01, 0.1, 20)</td>\n",
              "      <td>5</td>\n",
              "      <td>2</td>\n",
              "    </tr>\n",
              "    <tr>\n",
              "      <th>3</th>\n",
              "      <td>SGD_Digital_Music.p</td>\n",
              "      <td>51999</td>\n",
              "      <td>12707</td>\n",
              "      <td>0.552769</td>\n",
              "      <td>0.727106</td>\n",
              "      <td>{'lr': [0.01], 'reg': [0.1, 0.01], 'factors': ...</td>\n",
              "      <td>(0.01, 0.01, 2)</td>\n",
              "      <td>5</td>\n",
              "      <td>2</td>\n",
              "    </tr>\n",
              "    <tr>\n",
              "      <th>4</th>\n",
              "      <td>SGD_Digital_Music.p</td>\n",
              "      <td>51999</td>\n",
              "      <td>12707</td>\n",
              "      <td>0.552769</td>\n",
              "      <td>0.727106</td>\n",
              "      <td>{'lr': [0.01], 'reg': [0.1, 0.01], 'factors': ...</td>\n",
              "      <td>(0.01, 0.01, 5)</td>\n",
              "      <td>5</td>\n",
              "      <td>2</td>\n",
              "    </tr>\n",
              "    <tr>\n",
              "      <th>5</th>\n",
              "      <td>SGD_Digital_Music.p</td>\n",
              "      <td>51999</td>\n",
              "      <td>12707</td>\n",
              "      <td>0.552769</td>\n",
              "      <td>0.727106</td>\n",
              "      <td>{'lr': [0.01], 'reg': [0.1, 0.01], 'factors': ...</td>\n",
              "      <td>(0.01, 0.01, 20)</td>\n",
              "      <td>5</td>\n",
              "      <td>2</td>\n",
              "    </tr>\n",
              "  </tbody>\n",
              "</table>\n",
              "</div>"
            ],
            "text/plain": [
              "               df_name Train_size Test_size  ...        Best_param  Min_User Min_Item\n",
              "0  SGD_Digital_Music.p      51999     12707  ...    (0.01, 0.1, 2)         5        2\n",
              "1  SGD_Digital_Music.p      51999     12707  ...    (0.01, 0.1, 5)         5        2\n",
              "2  SGD_Digital_Music.p      51999     12707  ...   (0.01, 0.1, 20)         5        2\n",
              "3  SGD_Digital_Music.p      51999     12707  ...   (0.01, 0.01, 2)         5        2\n",
              "4  SGD_Digital_Music.p      51999     12707  ...   (0.01, 0.01, 5)         5        2\n",
              "5  SGD_Digital_Music.p      51999     12707  ...  (0.01, 0.01, 20)         5        2\n",
              "\n",
              "[6 rows x 9 columns]"
            ]
          },
          "metadata": {
            "tags": []
          },
          "execution_count": 173
        },
        {
          "output_type": "stream",
          "text": [
            "time: 35.7 ms (started: 2021-05-04 20:16:48 +00:00)\n"
          ],
          "name": "stdout"
        }
      ]
    },
    {
      "cell_type": "code",
      "metadata": {
        "id": "zCD9fU7qBqgO"
      },
      "source": [
        ""
      ],
      "execution_count": null,
      "outputs": []
    },
    {
      "cell_type": "markdown",
      "metadata": {
        "id": "82yrjfaFCBvy"
      },
      "source": [
        "## Musical Instruments 2018 dataset"
      ]
    },
    {
      "cell_type": "code",
      "metadata": {
        "colab": {
          "base_uri": "https://localhost:8080/",
          "height": 362
        },
        "id": "3nIcFpLLCF5W",
        "outputId": "dd140110-3a24-4b1c-822b-c530c2947072"
      },
      "source": [
        "# read model and plot graph\n",
        "model_sgd = pickle.load(open('/content/SGD_Musical_Instruments.p','rb'))\n",
        "train_set = model_sgd['train']\n",
        "test_set = model_sgd['test']\n",
        "train_mae = model_sgd['train_mae']\n",
        "test_mae = model_sgd['test_mae']\n",
        "print(f'no. of users {len(model_sgd[\"user_mapping\"].keys())}')\n",
        "print(f'no. of items {len(model_sgd[\"item_mapping\"].keys())}')\n",
        "print(f'train size {len(model_sgd[\"train\"])}')\n",
        "print(f'test size {len(model_sgd[\"test\"])}')\n",
        "plt.plot([i/len(train_set) for i in train_mae])\n",
        "plt.plot([i/len(test_set) for i in test_mae])\n",
        "plt.legend(['train', 'validation'], loc='upper right')"
      ],
      "execution_count": 175,
      "outputs": [
        {
          "output_type": "stream",
          "text": [
            "no. of users 9993\n",
            "no. of items 13105\n",
            "train size 51648\n",
            "test size 13149\n"
          ],
          "name": "stdout"
        },
        {
          "output_type": "execute_result",
          "data": {
            "text/plain": [
              "<matplotlib.legend.Legend at 0x7f135a2cd110>"
            ]
          },
          "metadata": {
            "tags": []
          },
          "execution_count": 175
        },
        {
          "output_type": "display_data",
          "data": {
            "image/png": "[encoded data removed]",
            "text/plain": [
              "<Figure size 432x288 with 1 Axes>"
            ]
          },
          "metadata": {
            "tags": [],
            "needs_background": "light"
          }
        },
        {
          "output_type": "stream",
          "text": [
            "time: 207 ms (started: 2021-05-04 20:25:52 +00:00)\n"
          ],
          "name": "stdout"
        }
      ]
    },
    {
      "cell_type": "markdown",
      "metadata": {
        "id": "zo1QZjLcEI0k"
      },
      "source": [
        "## SGD on 5-core datasets combined\n",
        "1. Software\n",
        "2. Patio, Lawn and Garden\n",
        "3. Digital Music\n",
        "4. Arts, Crafts and Saving"
      ]
    },
    {
      "cell_type": "code",
      "metadata": {
        "colab": {
          "base_uri": "https://localhost:8080/",
          "height": 362
        },
        "id": "hQr1axSLEi6g",
        "outputId": "32515598-5379-4bd3-a044-a0f57e195e00"
      },
      "source": [
        "# read model and plot graph\n",
        "model_sgd = pickle.load(open('/content/SGD_Combined_Software_DigitalMusic_Patio_ArtsCrafts_5_core.p','rb'))\n",
        "train_set = model_sgd['train']\n",
        "test_set = model_sgd['test']\n",
        "train_mae = model_sgd['train_mae']\n",
        "test_mae = model_sgd['test_mae']\n",
        "print(f'no. of users {len(model_sgd[\"user_mapping\"].keys())}')\n",
        "print(f'no. of items {len(model_sgd[\"item_mapping\"].keys())}')\n",
        "print(f'train size {len(model_sgd[\"train\"])}')\n",
        "print(f'test size {len(model_sgd[\"test\"])}')\n",
        "plt.plot([i/len(train_set) for i in train_mae])\n",
        "plt.plot([i/len(test_set) for i in test_mae])\n",
        "plt.legend(['train', 'validation'], loc='upper right')"
      ],
      "execution_count": 176,
      "outputs": [
        {
          "output_type": "stream",
          "text": [
            "no. of users 99762\n",
            "no. of items 45900\n",
            "train size 653027\n",
            "test size 162679\n"
          ],
          "name": "stdout"
        },
        {
          "output_type": "execute_result",
          "data": {
            "text/plain": [
              "<matplotlib.legend.Legend at 0x7f1359dcd210>"
            ]
          },
          "metadata": {
            "tags": []
          },
          "execution_count": 176
        },
        {
          "output_type": "display_data",
          "data": {
            "image/png": "[encoded data removed]",
            "text/plain": [
              "<Figure size 432x288 with 1 Axes>"
            ]
          },
          "metadata": {
            "tags": [],
            "needs_background": "light"
          }
        },
        {
          "output_type": "stream",
          "text": [
            "time: 287 ms (started: 2021-05-04 20:31:38 +00:00)\n"
          ],
          "name": "stdout"
        }
      ]
    },
    {
      "cell_type": "code",
      "metadata": {
        "colab": {
          "base_uri": "https://localhost:8080/",
          "height": 333
        },
        "id": "c2DUMD6OFDxh",
        "outputId": "72baa13d-e932-4cf9-c0fc-27c751c2b54f"
      },
      "source": [
        "results_df_sgd = pickle.load(open('/content/5_core_Combined_results_summary_2.p',\"rb\"))\n",
        "# results_df_sgd['df_name'] = 'SGD_Software_5' # correcting error\n",
        "results_df_sgd"
      ],
      "execution_count": 177,
      "outputs": [
        {
          "output_type": "execute_result",
          "data": {
            "text/html": [
              "<div>\n",
              "<style scoped>\n",
              "    .dataframe tbody tr th:only-of-type {\n",
              "        vertical-align: middle;\n",
              "    }\n",
              "\n",
              "    .dataframe tbody tr th {\n",
              "        vertical-align: top;\n",
              "    }\n",
              "\n",
              "    .dataframe thead th {\n",
              "        text-align: right;\n",
              "    }\n",
              "</style>\n",
              "<table border=\"1\" class=\"dataframe\">\n",
              "  <thead>\n",
              "    <tr style=\"text-align: right;\">\n",
              "      <th></th>\n",
              "      <th>df_name</th>\n",
              "      <th>Train_size</th>\n",
              "      <th>Test_size</th>\n",
              "      <th>Train_MAE</th>\n",
              "      <th>Test_MAE</th>\n",
              "      <th>Hyperparam_tried</th>\n",
              "      <th>Best_param</th>\n",
              "      <th>Min_User</th>\n",
              "      <th>Min_Item</th>\n",
              "    </tr>\n",
              "  </thead>\n",
              "  <tbody>\n",
              "    <tr>\n",
              "      <th>0</th>\n",
              "      <td>SGD_Combined_Software_DigitalMusic_Patio_ArtsC...</td>\n",
              "      <td>653027</td>\n",
              "      <td>162679</td>\n",
              "      <td>0.418462</td>\n",
              "      <td>0.636135</td>\n",
              "      <td>{'lr': [0.01], 'reg': [0.1, 0.01], 'factors': ...</td>\n",
              "      <td>(0.01, 0.1, 5)</td>\n",
              "      <td>3</td>\n",
              "      <td>2</td>\n",
              "    </tr>\n",
              "    <tr>\n",
              "      <th>1</th>\n",
              "      <td>SGD_Combined_Software_DigitalMusic_Patio_ArtsC...</td>\n",
              "      <td>653027</td>\n",
              "      <td>162679</td>\n",
              "      <td>0.418462</td>\n",
              "      <td>0.636135</td>\n",
              "      <td>{'lr': [0.01], 'reg': [0.1, 0.01], 'factors': ...</td>\n",
              "      <td>(0.01, 0.1, 20)</td>\n",
              "      <td>3</td>\n",
              "      <td>2</td>\n",
              "    </tr>\n",
              "    <tr>\n",
              "      <th>2</th>\n",
              "      <td>SGD_Combined_Software_DigitalMusic_Patio_ArtsC...</td>\n",
              "      <td>653027</td>\n",
              "      <td>162679</td>\n",
              "      <td>0.418462</td>\n",
              "      <td>0.636135</td>\n",
              "      <td>{'lr': [0.01], 'reg': [0.1, 0.01], 'factors': ...</td>\n",
              "      <td>(0.01, 0.1, 50)</td>\n",
              "      <td>3</td>\n",
              "      <td>2</td>\n",
              "    </tr>\n",
              "    <tr>\n",
              "      <th>3</th>\n",
              "      <td>SGD_Combined_Software_DigitalMusic_Patio_ArtsC...</td>\n",
              "      <td>653027</td>\n",
              "      <td>162679</td>\n",
              "      <td>0.418462</td>\n",
              "      <td>0.636135</td>\n",
              "      <td>{'lr': [0.01], 'reg': [0.1, 0.01], 'factors': ...</td>\n",
              "      <td>(0.01, 0.01, 5)</td>\n",
              "      <td>3</td>\n",
              "      <td>2</td>\n",
              "    </tr>\n",
              "    <tr>\n",
              "      <th>4</th>\n",
              "      <td>SGD_Combined_Software_DigitalMusic_Patio_ArtsC...</td>\n",
              "      <td>653027</td>\n",
              "      <td>162679</td>\n",
              "      <td>0.418462</td>\n",
              "      <td>0.636135</td>\n",
              "      <td>{'lr': [0.01], 'reg': [0.1, 0.01], 'factors': ...</td>\n",
              "      <td>(0.01, 0.01, 20)</td>\n",
              "      <td>3</td>\n",
              "      <td>2</td>\n",
              "    </tr>\n",
              "    <tr>\n",
              "      <th>5</th>\n",
              "      <td>SGD_Combined_Software_DigitalMusic_Patio_ArtsC...</td>\n",
              "      <td>653027</td>\n",
              "      <td>162679</td>\n",
              "      <td>0.418462</td>\n",
              "      <td>0.636135</td>\n",
              "      <td>{'lr': [0.01], 'reg': [0.1, 0.01], 'factors': ...</td>\n",
              "      <td>(0.01, 0.01, 50)</td>\n",
              "      <td>3</td>\n",
              "      <td>2</td>\n",
              "    </tr>\n",
              "  </tbody>\n",
              "</table>\n",
              "</div>"
            ],
            "text/plain": [
              "                                             df_name  ... Min_Item\n",
              "0  SGD_Combined_Software_DigitalMusic_Patio_ArtsC...  ...        2\n",
              "1  SGD_Combined_Software_DigitalMusic_Patio_ArtsC...  ...        2\n",
              "2  SGD_Combined_Software_DigitalMusic_Patio_ArtsC...  ...        2\n",
              "3  SGD_Combined_Software_DigitalMusic_Patio_ArtsC...  ...        2\n",
              "4  SGD_Combined_Software_DigitalMusic_Patio_ArtsC...  ...        2\n",
              "5  SGD_Combined_Software_DigitalMusic_Patio_ArtsC...  ...        2\n",
              "\n",
              "[6 rows x 9 columns]"
            ]
          },
          "metadata": {
            "tags": []
          },
          "execution_count": 177
        },
        {
          "output_type": "stream",
          "text": [
            "time: 40.1 ms (started: 2021-05-04 20:32:18 +00:00)\n"
          ],
          "name": "stdout"
        }
      ]
    },
    {
      "cell_type": "code",
      "metadata": {
        "id": "XC4b00-FFNng"
      },
      "source": [
        ""
      ],
      "execution_count": null,
      "outputs": []
    },
    {
      "cell_type": "markdown",
      "metadata": {
        "id": "6j870KmwIMpX"
      },
      "source": [
        "## Appliances 2018 dataset - SGD"
      ]
    },
    {
      "cell_type": "code",
      "metadata": {
        "colab": {
          "base_uri": "https://localhost:8080/",
          "height": 362
        },
        "id": "bJ0Sf1NJIPQL",
        "outputId": "675b1a5a-0f77-4e19-8849-6754bb264842"
      },
      "source": [
        "# read model and plot graph\n",
        "model_sgd = pickle.load(open('/content/SGD_Applicances.p','rb'))\n",
        "train_set = model_sgd['train']\n",
        "test_set = model_sgd['test']\n",
        "train_mae = model_sgd['train_mae']\n",
        "test_mae = model_sgd['test_mae']\n",
        "print(f'no. of users {len(model_sgd[\"user_mapping\"].keys())}')\n",
        "print(f'no. of items {len(model_sgd[\"item_mapping\"].keys())}')\n",
        "print(f'train size {len(model_sgd[\"train\"])}')\n",
        "print(f'test size {len(model_sgd[\"test\"])}')\n",
        "plt.plot([i/len(train_set) for i in train_mae])\n",
        "plt.plot([i/len(test_set) for i in test_mae])\n",
        "plt.legend(['train', 'validation'], loc='upper right')"
      ],
      "execution_count": 182,
      "outputs": [
        {
          "output_type": "stream",
          "text": [
            "no. of users 11682\n",
            "no. of items 60840\n",
            "train size 115670\n",
            "test size 27707\n"
          ],
          "name": "stdout"
        },
        {
          "output_type": "execute_result",
          "data": {
            "text/plain": [
              "<matplotlib.legend.Legend at 0x7f135a40fe10>"
            ]
          },
          "metadata": {
            "tags": []
          },
          "execution_count": 182
        },
        {
          "output_type": "display_data",
          "data": {
            "image/png": "[encoded data removed]",
            "text/plain": [
              "<Figure size 432x288 with 1 Axes>"
            ]
          },
          "metadata": {
            "tags": [],
            "needs_background": "light"
          }
        },
        {
          "output_type": "stream",
          "text": [
            "time: 226 ms (started: 2021-05-04 20:48:01 +00:00)\n"
          ],
          "name": "stdout"
        }
      ]
    },
    {
      "cell_type": "code",
      "metadata": {
        "colab": {
          "base_uri": "https://localhost:8080/"
        },
        "id": "YXvZFzXXIjDu",
        "outputId": "d4f98d68-fba2-49be-d359-50853573e8ab"
      },
      "source": [
        "model_sgd.keys()"
      ],
      "execution_count": 181,
      "outputs": [
        {
          "output_type": "execute_result",
          "data": {
            "text/plain": [
              "dict_keys(['name', 'user_vectors', 'item_vectors', 'hyperparameters', 'train', 'test', 'train_mse', 'train_mae', 'test_mse', 'test_mae', 'user_mapping', 'item_mapping'])"
            ]
          },
          "metadata": {
            "tags": []
          },
          "execution_count": 181
        },
        {
          "output_type": "stream",
          "text": [
            "time: 5.01 ms (started: 2021-05-04 20:47:44 +00:00)\n"
          ],
          "name": "stdout"
        }
      ]
    },
    {
      "cell_type": "markdown",
      "metadata": {
        "id": "ANyCpBHkJDka"
      },
      "source": [
        "## Luxury Beauty 2018 dataset"
      ]
    },
    {
      "cell_type": "code",
      "metadata": {
        "colab": {
          "base_uri": "https://localhost:8080/",
          "height": 378
        },
        "id": "kri4ZCaOJGP5",
        "outputId": "e09ad269-21b3-4944-e172-58277147aeaf"
      },
      "source": [
        "# read model and plot graph\n",
        "model_sgd = pickle.load(open('/content/SGD_Luxury_Beauty.p','rb'))\n",
        "train_set = model_sgd['train']\n",
        "test_set = model_sgd['test']\n",
        "train_mae = model_sgd['train_mae']\n",
        "test_mae = model_sgd['test_mae']\n",
        "print(f'no. of users {len(model_sgd[\"user_mapping\"].keys())}')\n",
        "print(f'no. of items {len(model_sgd[\"item_mapping\"].keys())}')\n",
        "print(f'train size {len(model_sgd[\"train\"])}')\n",
        "print(f'test size {len(model_sgd[\"test\"])}')\n",
        "print(f'best validation MAE {model_sgd[\"best_test_mae\"]/len(model_sgd[\"test\"])}')\n",
        "plt.plot([i/len(train_set) for i in train_mae])\n",
        "plt.plot([i/len(test_set) for i in test_mae])\n",
        "plt.legend(['train', 'validation'], loc='upper right')"
      ],
      "execution_count": 187,
      "outputs": [
        {
          "output_type": "stream",
          "text": [
            "no. of users 10621\n",
            "no. of items 415231\n",
            "train size 427070\n",
            "test size 106741\n",
            "best validation MAE 1.255884785803772\n"
          ],
          "name": "stdout"
        },
        {
          "output_type": "execute_result",
          "data": {
            "text/plain": [
              "<matplotlib.legend.Legend at 0x7f1354728f10>"
            ]
          },
          "metadata": {
            "tags": []
          },
          "execution_count": 187
        },
        {
          "output_type": "display_data",
          "data": {
            "image/png": "[encoded data removed]",
            "text/plain": [
              "<Figure size 432x288 with 1 Axes>"
            ]
          },
          "metadata": {
            "tags": [],
            "needs_background": "light"
          }
        },
        {
          "output_type": "stream",
          "text": [
            "time: 434 ms (started: 2021-05-04 20:51:57 +00:00)\n"
          ],
          "name": "stdout"
        }
      ]
    },
    {
      "cell_type": "markdown",
      "metadata": {
        "id": "br-pnFwsLswQ"
      },
      "source": [
        "## SGD and ALS on 5-core 2018 datasets\n",
        "1. Industrial and Scientific\n",
        "2. Luxury Beauty\n",
        "3. Software \n",
        "4. Prime Pantry\n"
      ]
    },
    {
      "cell_type": "code",
      "metadata": {
        "colab": {
          "base_uri": "https://localhost:8080/",
          "height": 362
        },
        "id": "13HS7pn-L6hQ",
        "outputId": "8e6ad489-e196-4a46-a29c-6ce23b7e7f0c"
      },
      "source": [
        "# read model and plot graph\n",
        "model_sgd = pickle.load(open('/content/SGD_5_core.p','rb'))\n",
        "train_set = model_sgd['train']\n",
        "test_set = model_sgd['test']\n",
        "train_mae = model_sgd['train_mae']\n",
        "test_mae = model_sgd['test_mae']\n",
        "print(f'no. of users {len(model_sgd[\"user_mapping\"].keys())}')\n",
        "print(f'no. of items {len(model_sgd[\"item_mapping\"].keys())}')\n",
        "print(f'train size {len(model_sgd[\"train\"])}')\n",
        "print(f'test size {len(model_sgd[\"test\"])}')\n",
        "\n",
        "plt.plot([i/len(train_set) for i in train_mae])\n",
        "plt.plot([i/len(test_set) for i in test_mae])\n",
        "plt.legend(['train', 'validation'], loc='upper right')"
      ],
      "execution_count": 189,
      "outputs": [
        {
          "output_type": "stream",
          "text": [
            "no. of users 29499\n",
            "no. of items 12512\n",
            "train size 194554\n",
            "test size 48329\n"
          ],
          "name": "stdout"
        },
        {
          "output_type": "execute_result",
          "data": {
            "text/plain": [
              "<matplotlib.legend.Legend at 0x7f1355133090>"
            ]
          },
          "metadata": {
            "tags": []
          },
          "execution_count": 189
        },
        {
          "output_type": "display_data",
          "data": {
            "image/png": "[encoded data removed]",
            "text/plain": [
              "<Figure size 432x288 with 1 Axes>"
            ]
          },
          "metadata": {
            "tags": [],
            "needs_background": "light"
          }
        },
        {
          "output_type": "stream",
          "text": [
            "time: 238 ms (started: 2021-05-04 21:02:35 +00:00)\n"
          ],
          "name": "stdout"
        }
      ]
    },
    {
      "cell_type": "code",
      "metadata": {
        "colab": {
          "base_uri": "https://localhost:8080/",
          "height": 365
        },
        "id": "jMFBkpURMHZR",
        "outputId": "f849aabf-6f82-4a3f-b604-4a6006e4c43c"
      },
      "source": [
        "# read model and plot graph\n",
        "model_als = pickle.load(open('/content/ALS_5_core.p','rb'))\n",
        "train_set = model_als['train']\n",
        "test_set = model_als['test']\n",
        "train_mae = model_als['train_mae']\n",
        "test_mae = model_als['test_mae']\n",
        "print(f'no. of users {len(model_als[\"user_mapping\"].keys())}')\n",
        "print(f'no. of items {len(model_als[\"item_mapping\"].keys())}')\n",
        "print(f'train size {len(model_als[\"train\"])}')\n",
        "print(f'test size {len(model_als[\"test\"])}')\n",
        "\n",
        "plt.plot([i/len(train_set) for i in train_mae])\n",
        "plt.plot([i/len(test_set) for i in test_mae])\n",
        "plt.legend(['train', 'validation'], loc='upper right')"
      ],
      "execution_count": 190,
      "outputs": [
        {
          "output_type": "stream",
          "text": [
            "no. of users 29499\n",
            "no. of items 12512\n",
            "train size 194554\n",
            "test size 48329\n"
          ],
          "name": "stdout"
        },
        {
          "output_type": "execute_result",
          "data": {
            "text/plain": [
              "<matplotlib.legend.Legend at 0x7f135975fd10>"
            ]
          },
          "metadata": {
            "tags": []
          },
          "execution_count": 190
        },
        {
          "output_type": "display_data",
          "data": {
            "image/png": "[encoded data removed]",
            "text/plain": [
              "<Figure size 432x288 with 1 Axes>"
            ]
          },
          "metadata": {
            "tags": [],
            "needs_background": "light"
          }
        },
        {
          "output_type": "stream",
          "text": [
            "time: 232 ms (started: 2021-05-04 21:04:49 +00:00)\n"
          ],
          "name": "stdout"
        }
      ]
    },
    {
      "cell_type": "code",
      "metadata": {
        "id": "w-Y1RBk1Mp4j"
      },
      "source": [
        ""
      ],
      "execution_count": null,
      "outputs": []
    },
    {
      "cell_type": "markdown",
      "metadata": {
        "id": "zCD_mWdpNvLr"
      },
      "source": [
        "## SGD Gourmet 2018 Dataset"
      ]
    },
    {
      "cell_type": "code",
      "metadata": {
        "colab": {
          "base_uri": "https://localhost:8080/",
          "height": 362
        },
        "id": "ulLQe5TnNyQ4",
        "outputId": "0fa51178-562e-4e90-ed01-ce1b860c7092"
      },
      "source": [
        "# read model and plot graph\n",
        "model_sgd = pickle.load(open('/content/SGD_Gourmet.p','rb'))\n",
        "train_set = model_sgd['train']\n",
        "test_set = model_sgd['test']\n",
        "train_mae = model_sgd['train_mae']\n",
        "test_mae = model_sgd['test_mae']\n",
        "print(f'no. of users {len(model_sgd[\"user_mapping\"].keys())}')\n",
        "print(f'no. of items {len(model_sgd[\"item_mapping\"].keys())}')\n",
        "print(f'train size {len(model_sgd[\"train\"])}')\n",
        "print(f'test size {len(model_sgd[\"test\"])}')\n",
        "\n",
        "plt.plot([i/len(train_set) for i in train_mae])\n",
        "plt.plot([i/len(test_set) for i in test_mae])\n",
        "plt.legend(['train', 'validation'], loc='upper right')"
      ],
      "execution_count": 191,
      "outputs": [
        {
          "output_type": "stream",
          "text": [
            "no. of users 29499\n",
            "no. of items 12512\n",
            "train size 194554\n",
            "test size 48329\n"
          ],
          "name": "stdout"
        },
        {
          "output_type": "execute_result",
          "data": {
            "text/plain": [
              "<matplotlib.legend.Legend at 0x7f135973de10>"
            ]
          },
          "metadata": {
            "tags": []
          },
          "execution_count": 191
        },
        {
          "output_type": "display_data",
          "data": {
            "image/png": "[encoded data removed]",
            "text/plain": [
              "<Figure size 432x288 with 1 Axes>"
            ]
          },
          "metadata": {
            "tags": [],
            "needs_background": "light"
          }
        },
        {
          "output_type": "stream",
          "text": [
            "time: 218 ms (started: 2021-05-04 21:10:35 +00:00)\n"
          ],
          "name": "stdout"
        }
      ]
    },
    {
      "cell_type": "code",
      "metadata": {
        "id": "U2BuV_SXN-fZ"
      },
      "source": [
        ""
      ],
      "execution_count": null,
      "outputs": []
    }
  ]
}